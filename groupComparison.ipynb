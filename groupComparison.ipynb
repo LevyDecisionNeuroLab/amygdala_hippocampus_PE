{
 "cells": [
  {
   "cell_type": "markdown",
   "id": "b0ba594a-d651-4834-a658-c959093cfdb6",
   "metadata": {},
   "source": [
    "# Group Comparison\n",
    "- Test differences between groups in PE and Amg-Hipp coupling"
   ]
  },
  {
   "cell_type": "code",
   "execution_count": 1,
   "id": "4aa96e4d-a2d7-4761-8bc0-56089ff46ba4",
   "metadata": {},
   "outputs": [],
   "source": [
    "import pandas as pd\n",
    "import numpy as np\n",
    "import pymc3 as pm\n",
    "import arviz as az\n",
    "\n",
    "import matplotlib.pyplot as plt\n",
    "import seaborn as sns\n"
   ]
  },
  {
   "cell_type": "code",
   "execution_count": 4,
   "id": "6d6ebb57-cf7b-49b6-a16f-87d1d92b6198",
   "metadata": {
    "tags": []
   },
   "outputs": [],
   "source": [
    "# grab data\n",
    "dfSCR = pd.read_csv('data/scr_clean2.csv') # PE and SCR data\n",
    "dfROIs = pd.read_csv('data/neuroSynth_connectivity.csv') # brain data\n",
    "dfGroups = pd.read_csv('data/demographic.csv') # load groups"
   ]
  },
  {
   "cell_type": "code",
   "execution_count": 5,
   "id": "f0e7cccf-b43b-4329-92ad-1d4a79a7b1e6",
   "metadata": {},
   "outputs": [],
   "source": [
    "df = pd.merge(pd.merge(dfSCR, dfROIs, left_on=['sub', 'Event.Nr'], right_on=['sub', 'trial']), dfGroups, left_on='sub', right_on='sub_id')"
   ]
  },
  {
   "cell_type": "code",
   "execution_count": 6,
   "id": "40fcd280-9952-48aa-a64f-fe1c20d8e5ca",
   "metadata": {},
   "outputs": [
    {
     "data": {
      "text/html": [
       "<div>\n",
       "<style scoped>\n",
       "    .dataframe tbody tr th:only-of-type {\n",
       "        vertical-align: middle;\n",
       "    }\n",
       "\n",
       "    .dataframe tbody tr th {\n",
       "        vertical-align: top;\n",
       "    }\n",
       "\n",
       "    .dataframe thead th {\n",
       "        text-align: right;\n",
       "    }\n",
       "</style>\n",
       "<table border=\"1\" class=\"dataframe\">\n",
       "  <thead>\n",
       "    <tr style=\"text-align: right;\">\n",
       "      <th></th>\n",
       "      <th>sub</th>\n",
       "      <th>Condition</th>\n",
       "      <th>Event.Nr</th>\n",
       "      <th>CDA.AmpSum</th>\n",
       "      <th>expected_value</th>\n",
       "      <th>pe</th>\n",
       "      <th>scr</th>\n",
       "      <th>amg_hipp</th>\n",
       "      <th>amg_vmpfc</th>\n",
       "      <th>amg_SnM</th>\n",
       "      <th>amgM</th>\n",
       "      <th>trial</th>\n",
       "      <th>condition</th>\n",
       "      <th>sub_id</th>\n",
       "      <th>group</th>\n",
       "      <th>Gender</th>\n",
       "      <th>Age</th>\n",
       "    </tr>\n",
       "  </thead>\n",
       "  <tbody>\n",
       "    <tr>\n",
       "      <th>0</th>\n",
       "      <td>sub-189</td>\n",
       "      <td>CSplusUS1</td>\n",
       "      <td>1</td>\n",
       "      <td>0.2852</td>\n",
       "      <td>0.801175</td>\n",
       "      <td>0.500000</td>\n",
       "      <td>0.2852</td>\n",
       "      <td>0.922353</td>\n",
       "      <td>0.880922</td>\n",
       "      <td>-0.178543</td>\n",
       "      <td>0.561003</td>\n",
       "      <td>1</td>\n",
       "      <td>CSplusUS1</td>\n",
       "      <td>sub-189</td>\n",
       "      <td>HC</td>\n",
       "      <td>2.0</td>\n",
       "      <td>26.0</td>\n",
       "    </tr>\n",
       "    <tr>\n",
       "      <th>1</th>\n",
       "      <td>sub-189</td>\n",
       "      <td>CSminus1</td>\n",
       "      <td>2</td>\n",
       "      <td>0.1033</td>\n",
       "      <td>0.796939</td>\n",
       "      <td>-0.500000</td>\n",
       "      <td>0.1033</td>\n",
       "      <td>0.131659</td>\n",
       "      <td>0.645556</td>\n",
       "      <td>0.078074</td>\n",
       "      <td>-0.021780</td>\n",
       "      <td>2</td>\n",
       "      <td>CSminus1</td>\n",
       "      <td>sub-189</td>\n",
       "      <td>HC</td>\n",
       "      <td>2.0</td>\n",
       "      <td>26.0</td>\n",
       "    </tr>\n",
       "    <tr>\n",
       "      <th>2</th>\n",
       "      <td>sub-189</td>\n",
       "      <td>CSplus1</td>\n",
       "      <td>3</td>\n",
       "      <td>0.0783</td>\n",
       "      <td>0.799047</td>\n",
       "      <td>-0.501304</td>\n",
       "      <td>0.0783</td>\n",
       "      <td>0.538454</td>\n",
       "      <td>0.690040</td>\n",
       "      <td>-0.027568</td>\n",
       "      <td>-0.055494</td>\n",
       "      <td>3</td>\n",
       "      <td>CSplus1</td>\n",
       "      <td>sub-189</td>\n",
       "      <td>HC</td>\n",
       "      <td>2.0</td>\n",
       "      <td>26.0</td>\n",
       "    </tr>\n",
       "    <tr>\n",
       "      <th>3</th>\n",
       "      <td>sub-189</td>\n",
       "      <td>CSplusUS1</td>\n",
       "      <td>4</td>\n",
       "      <td>0.1772</td>\n",
       "      <td>0.801165</td>\n",
       "      <td>0.500006</td>\n",
       "      <td>0.1772</td>\n",
       "      <td>0.751307</td>\n",
       "      <td>0.846971</td>\n",
       "      <td>0.085269</td>\n",
       "      <td>-0.190930</td>\n",
       "      <td>4</td>\n",
       "      <td>CSplusUS1</td>\n",
       "      <td>sub-189</td>\n",
       "      <td>HC</td>\n",
       "      <td>2.0</td>\n",
       "      <td>26.0</td>\n",
       "    </tr>\n",
       "    <tr>\n",
       "      <th>4</th>\n",
       "      <td>sub-189</td>\n",
       "      <td>CSminus1</td>\n",
       "      <td>5</td>\n",
       "      <td>0.0000</td>\n",
       "      <td>0.794832</td>\n",
       "      <td>-0.498696</td>\n",
       "      <td>0.0000</td>\n",
       "      <td>0.824036</td>\n",
       "      <td>0.681568</td>\n",
       "      <td>0.477865</td>\n",
       "      <td>0.028911</td>\n",
       "      <td>5</td>\n",
       "      <td>CSminus1</td>\n",
       "      <td>sub-189</td>\n",
       "      <td>HC</td>\n",
       "      <td>2.0</td>\n",
       "      <td>26.0</td>\n",
       "    </tr>\n",
       "    <tr>\n",
       "      <th>...</th>\n",
       "      <td>...</td>\n",
       "      <td>...</td>\n",
       "      <td>...</td>\n",
       "      <td>...</td>\n",
       "      <td>...</td>\n",
       "      <td>...</td>\n",
       "      <td>...</td>\n",
       "      <td>...</td>\n",
       "      <td>...</td>\n",
       "      <td>...</td>\n",
       "      <td>...</td>\n",
       "      <td>...</td>\n",
       "      <td>...</td>\n",
       "      <td>...</td>\n",
       "      <td>...</td>\n",
       "      <td>...</td>\n",
       "      <td>...</td>\n",
       "    </tr>\n",
       "    <tr>\n",
       "      <th>4480</th>\n",
       "      <td>sub-152</td>\n",
       "      <td>CSplus2</td>\n",
       "      <td>65</td>\n",
       "      <td>0.0000</td>\n",
       "      <td>0.012591</td>\n",
       "      <td>-0.041406</td>\n",
       "      <td>0.0000</td>\n",
       "      <td>0.668299</td>\n",
       "      <td>0.648652</td>\n",
       "      <td>-0.180171</td>\n",
       "      <td>0.262373</td>\n",
       "      <td>65</td>\n",
       "      <td>CSplus2</td>\n",
       "      <td>sub-152</td>\n",
       "      <td>HC</td>\n",
       "      <td>2.0</td>\n",
       "      <td>24.0</td>\n",
       "    </tr>\n",
       "    <tr>\n",
       "      <th>4481</th>\n",
       "      <td>sub-152</td>\n",
       "      <td>CSminus2</td>\n",
       "      <td>66</td>\n",
       "      <td>0.0000</td>\n",
       "      <td>0.149719</td>\n",
       "      <td>-0.372661</td>\n",
       "      <td>0.0000</td>\n",
       "      <td>0.419242</td>\n",
       "      <td>0.506714</td>\n",
       "      <td>-0.190413</td>\n",
       "      <td>0.055292</td>\n",
       "      <td>66</td>\n",
       "      <td>CSminus2</td>\n",
       "      <td>sub-152</td>\n",
       "      <td>HC</td>\n",
       "      <td>2.0</td>\n",
       "      <td>24.0</td>\n",
       "    </tr>\n",
       "    <tr>\n",
       "      <th>4482</th>\n",
       "      <td>sub-152</td>\n",
       "      <td>CSminus2</td>\n",
       "      <td>67</td>\n",
       "      <td>0.0000</td>\n",
       "      <td>0.113651</td>\n",
       "      <td>-0.284416</td>\n",
       "      <td>0.0000</td>\n",
       "      <td>0.678883</td>\n",
       "      <td>0.308139</td>\n",
       "      <td>0.560303</td>\n",
       "      <td>0.146620</td>\n",
       "      <td>67</td>\n",
       "      <td>CSminus2</td>\n",
       "      <td>sub-152</td>\n",
       "      <td>HC</td>\n",
       "      <td>2.0</td>\n",
       "      <td>24.0</td>\n",
       "    </tr>\n",
       "    <tr>\n",
       "      <th>4483</th>\n",
       "      <td>sub-152</td>\n",
       "      <td>CSplus2</td>\n",
       "      <td>68</td>\n",
       "      <td>0.0000</td>\n",
       "      <td>0.011487</td>\n",
       "      <td>-0.038340</td>\n",
       "      <td>0.0000</td>\n",
       "      <td>0.805161</td>\n",
       "      <td>0.258436</td>\n",
       "      <td>0.571014</td>\n",
       "      <td>-0.179821</td>\n",
       "      <td>68</td>\n",
       "      <td>CSplus2</td>\n",
       "      <td>sub-152</td>\n",
       "      <td>HC</td>\n",
       "      <td>2.0</td>\n",
       "      <td>24.0</td>\n",
       "    </tr>\n",
       "    <tr>\n",
       "      <th>4484</th>\n",
       "      <td>sub-152</td>\n",
       "      <td>CSminus2</td>\n",
       "      <td>69</td>\n",
       "      <td>0.0000</td>\n",
       "      <td>0.089113</td>\n",
       "      <td>-0.225738</td>\n",
       "      <td>0.0000</td>\n",
       "      <td>0.480243</td>\n",
       "      <td>0.267232</td>\n",
       "      <td>0.462993</td>\n",
       "      <td>-0.015971</td>\n",
       "      <td>69</td>\n",
       "      <td>CSminus2</td>\n",
       "      <td>sub-152</td>\n",
       "      <td>HC</td>\n",
       "      <td>2.0</td>\n",
       "      <td>24.0</td>\n",
       "    </tr>\n",
       "  </tbody>\n",
       "</table>\n",
       "<p>4485 rows × 17 columns</p>\n",
       "</div>"
      ],
      "text/plain": [
       "          sub  Condition  Event.Nr  CDA.AmpSum  expected_value        pe  \\\n",
       "0     sub-189  CSplusUS1         1      0.2852        0.801175  0.500000   \n",
       "1     sub-189   CSminus1         2      0.1033        0.796939 -0.500000   \n",
       "2     sub-189    CSplus1         3      0.0783        0.799047 -0.501304   \n",
       "3     sub-189  CSplusUS1         4      0.1772        0.801165  0.500006   \n",
       "4     sub-189   CSminus1         5      0.0000        0.794832 -0.498696   \n",
       "...       ...        ...       ...         ...             ...       ...   \n",
       "4480  sub-152    CSplus2        65      0.0000        0.012591 -0.041406   \n",
       "4481  sub-152   CSminus2        66      0.0000        0.149719 -0.372661   \n",
       "4482  sub-152   CSminus2        67      0.0000        0.113651 -0.284416   \n",
       "4483  sub-152    CSplus2        68      0.0000        0.011487 -0.038340   \n",
       "4484  sub-152   CSminus2        69      0.0000        0.089113 -0.225738   \n",
       "\n",
       "         scr  amg_hipp  amg_vmpfc   amg_SnM      amgM  trial  condition  \\\n",
       "0     0.2852  0.922353   0.880922 -0.178543  0.561003      1  CSplusUS1   \n",
       "1     0.1033  0.131659   0.645556  0.078074 -0.021780      2   CSminus1   \n",
       "2     0.0783  0.538454   0.690040 -0.027568 -0.055494      3    CSplus1   \n",
       "3     0.1772  0.751307   0.846971  0.085269 -0.190930      4  CSplusUS1   \n",
       "4     0.0000  0.824036   0.681568  0.477865  0.028911      5   CSminus1   \n",
       "...      ...       ...        ...       ...       ...    ...        ...   \n",
       "4480  0.0000  0.668299   0.648652 -0.180171  0.262373     65    CSplus2   \n",
       "4481  0.0000  0.419242   0.506714 -0.190413  0.055292     66   CSminus2   \n",
       "4482  0.0000  0.678883   0.308139  0.560303  0.146620     67   CSminus2   \n",
       "4483  0.0000  0.805161   0.258436  0.571014 -0.179821     68    CSplus2   \n",
       "4484  0.0000  0.480243   0.267232  0.462993 -0.015971     69   CSminus2   \n",
       "\n",
       "       sub_id group  Gender   Age  \n",
       "0     sub-189    HC     2.0  26.0  \n",
       "1     sub-189    HC     2.0  26.0  \n",
       "2     sub-189    HC     2.0  26.0  \n",
       "3     sub-189    HC     2.0  26.0  \n",
       "4     sub-189    HC     2.0  26.0  \n",
       "...       ...   ...     ...   ...  \n",
       "4480  sub-152    HC     2.0  24.0  \n",
       "4481  sub-152    HC     2.0  24.0  \n",
       "4482  sub-152    HC     2.0  24.0  \n",
       "4483  sub-152    HC     2.0  24.0  \n",
       "4484  sub-152    HC     2.0  24.0  \n",
       "\n",
       "[4485 rows x 17 columns]"
      ]
     },
     "execution_count": 6,
     "metadata": {},
     "output_type": "execute_result"
    }
   ],
   "source": [
    "df"
   ]
  },
  {
   "cell_type": "code",
   "execution_count": 7,
   "id": "1c49b50c-bb62-44de-bcbc-f64e4127f8a1",
   "metadata": {},
   "outputs": [
    {
     "data": {
      "text/plain": [
       "array([0, 0, 0, ..., 0, 0, 0], dtype=int8)"
      ]
     },
     "execution_count": 7,
     "metadata": {},
     "output_type": "execute_result"
    }
   ],
   "source": [
    "# build index for all Bayesian analysis\n",
    "# Bayes model\n",
    "# organize data\n",
    "df['sub'] = df['sub'].astype('category')\n",
    "#df['condition'] = df['condition'].astype('category')\n",
    "\n",
    "n_sub = len(df['sub'].unique())\n",
    "subIDX = df['sub'].cat.codes.values\n",
    "# condition\n",
    "n_cond = len(df['condition'].unique())\n",
    "#condIDX = df['condition'].cat.codes.values\n",
    "trials = df.trial.values - 1\n",
    "amygdala = df.amgM.values\n",
    "\n",
    "\n",
    "df['condition'].unique()\n",
    "\n",
    "# generating condition index\n",
    "df['cond'] = df['condition']#\n",
    "df = df.replace(to_replace={'cond': {'CSminus1':0, 'CSplus1':1, 'CSplusUS1':2, 'CSplus2':3, 'CSminus2':4, 'CSminusUS2':5}})\n",
    "\n",
    "condIDX = df.cond.values\n",
    "\n",
    "df['group'] = df['group'].astype('category')\n",
    "\n",
    "groupIDX = df['group'].cat.codes.values\n",
    "groupIDX"
   ]
  },
  {
   "cell_type": "code",
   "execution_count": 22,
   "id": "a1a020f1-8b32-4537-b1dc-1f9e70479558",
   "metadata": {},
   "outputs": [
    {
     "name": "stderr",
     "output_type": "stream",
     "text": [
      "Auto-assigning NUTS sampler...\n",
      "Initializing NUTS using jitter+adapt_diag...\n",
      "Multiprocess sampling (4 chains in 10 jobs)\n",
      "NUTS: [eps, grp, coup_matt, sigma_coup, mu_coup, b_amg, b_trials, a_matt, sigma_a, mu_a, intercept]\n"
     ]
    },
    {
     "data": {
      "text/html": [
       "\n",
       "<style>\n",
       "    /* Turns off some styling */\n",
       "    progress {\n",
       "        /* gets rid of default border in Firefox and Opera. */\n",
       "        border: none;\n",
       "        /* Needs to be in here for Safari polyfill so background images work as expected. */\n",
       "        background-size: auto;\n",
       "    }\n",
       "    .progress-bar-interrupted, .progress-bar-interrupted::-webkit-progress-bar {\n",
       "        background: #F44336;\n",
       "    }\n",
       "</style>\n"
      ],
      "text/plain": [
       "<IPython.core.display.HTML object>"
      ]
     },
     "metadata": {},
     "output_type": "display_data"
    },
    {
     "data": {
      "text/html": [
       "\n",
       "    <div>\n",
       "      <progress value='16000' class='' max='16000' style='width:300px; height:20px; vertical-align: middle;'></progress>\n",
       "      100.00% [16000/16000 16:40<00:00 Sampling 4 chains, 0 divergences]\n",
       "    </div>\n",
       "    "
      ],
      "text/plain": [
       "<IPython.core.display.HTML object>"
      ]
     },
     "metadata": {},
     "output_type": "display_data"
    },
    {
     "name": "stderr",
     "output_type": "stream",
     "text": [
      "Sampling 4 chains for 2_000 tune and 2_000 draw iterations (8_000 + 8_000 draws total) took 1002 seconds.\n"
     ]
    }
   ],
   "source": [
    "with pm.Model() as model_peG:\n",
    "    \n",
    "    # adding intercept\n",
    "    intercept = pm.Normal('intercept', mu=0, sigma=1)\n",
    "    \n",
    "    mu_a = pm.Normal('mu_a', mu=0, sigma=.5)\n",
    "    sigma_a = pm.HalfCauchy('sigma_a', .5)\n",
    "    a_matt = pm.Normal('a_matt', mu=0, sd=1, shape=n_sub)\n",
    "    a = pm.Deterministic('a', mu_a + sigma_a*a_matt)\n",
    "        \n",
    "    \n",
    "    # add trials and amygdala activation\n",
    "    b_trials = pm.Normal('b_trials', mu=0, sigma=.5)\n",
    "    b_amg = pm.Normal('b_amg', mu=0, sigma=.5)\n",
    "    \n",
    "    # add coupling\n",
    "    #b_coup = pm.Normal('b_coup', mu=0, sigma=.5)\n",
    "    mu_coup = pm.Normal('mu_coup', mu=0, sigma=.5)\n",
    "    sigma_coup = pm.HalfCauchy('sigma_coup', .5)\n",
    "    coup_matt = pm.Normal('coup_matt', mu=0, sd=1, shape=n_sub)\n",
    "    b_coup = pm.Deterministic('b_coup', mu_coup + sigma_coup*coup_matt)\n",
    "    \n",
    "    # add group\n",
    "    group = pm.Normal('grp', mu=0, sigma=.5, shape=3)\n",
    "   \n",
    "    eps = pm.HalfCauchy('eps', .5)\n",
    "    \n",
    "    # make mu a determenistic distribution so we can test later vs. actual data\n",
    "    \n",
    "    mu = pm.Deterministic('mu',intercept + a[subIDX] + group[groupIDX] + b_trials*trials + b_amg*df.amgM + b_coup[subIDX]*df.amg_hipp)\n",
    "    \n",
    "    y_hat = pm.Normal('y_hat', mu=mu, sigma=eps, observed=df.pe)\n",
    "   \n",
    "    \n",
    "    trace_peG = pm.sample(target_accept=.95, chains=4, cores=10, return_inferencedata=True, draws=2000, tune=2000)"
   ]
  },
  {
   "cell_type": "code",
   "execution_count": 35,
   "id": "c172d842-bd73-4ee9-a735-6b2f81d2f6f4",
   "metadata": {},
   "outputs": [
    {
     "data": {
      "text/html": [
       "<div>\n",
       "<style scoped>\n",
       "    .dataframe tbody tr th:only-of-type {\n",
       "        vertical-align: middle;\n",
       "    }\n",
       "\n",
       "    .dataframe tbody tr th {\n",
       "        vertical-align: top;\n",
       "    }\n",
       "\n",
       "    .dataframe thead th {\n",
       "        text-align: right;\n",
       "    }\n",
       "</style>\n",
       "<table border=\"1\" class=\"dataframe\">\n",
       "  <thead>\n",
       "    <tr style=\"text-align: right;\">\n",
       "      <th></th>\n",
       "      <th>mean</th>\n",
       "      <th>sd</th>\n",
       "      <th>hdi_3%</th>\n",
       "      <th>hdi_97%</th>\n",
       "      <th>mcse_mean</th>\n",
       "      <th>mcse_sd</th>\n",
       "      <th>ess_bulk</th>\n",
       "      <th>ess_tail</th>\n",
       "      <th>r_hat</th>\n",
       "    </tr>\n",
       "  </thead>\n",
       "  <tbody>\n",
       "    <tr>\n",
       "      <th>grp[0]</th>\n",
       "      <td>-0.027</td>\n",
       "      <td>0.277</td>\n",
       "      <td>-0.543</td>\n",
       "      <td>0.490</td>\n",
       "      <td>0.004</td>\n",
       "      <td>0.003</td>\n",
       "      <td>5257.0</td>\n",
       "      <td>5816.0</td>\n",
       "      <td>1.0</td>\n",
       "    </tr>\n",
       "    <tr>\n",
       "      <th>grp[1]</th>\n",
       "      <td>-0.015</td>\n",
       "      <td>0.277</td>\n",
       "      <td>-0.520</td>\n",
       "      <td>0.515</td>\n",
       "      <td>0.004</td>\n",
       "      <td>0.003</td>\n",
       "      <td>5247.0</td>\n",
       "      <td>5581.0</td>\n",
       "      <td>1.0</td>\n",
       "    </tr>\n",
       "    <tr>\n",
       "      <th>grp[2]</th>\n",
       "      <td>-0.006</td>\n",
       "      <td>0.277</td>\n",
       "      <td>-0.531</td>\n",
       "      <td>0.503</td>\n",
       "      <td>0.004</td>\n",
       "      <td>0.003</td>\n",
       "      <td>5254.0</td>\n",
       "      <td>5601.0</td>\n",
       "      <td>1.0</td>\n",
       "    </tr>\n",
       "    <tr>\n",
       "      <th>mu_coup</th>\n",
       "      <td>0.111</td>\n",
       "      <td>0.020</td>\n",
       "      <td>0.073</td>\n",
       "      <td>0.149</td>\n",
       "      <td>0.000</td>\n",
       "      <td>0.000</td>\n",
       "      <td>15136.0</td>\n",
       "      <td>6073.0</td>\n",
       "      <td>1.0</td>\n",
       "    </tr>\n",
       "  </tbody>\n",
       "</table>\n",
       "</div>"
      ],
      "text/plain": [
       "          mean     sd  hdi_3%  hdi_97%  mcse_mean  mcse_sd  ess_bulk  \\\n",
       "grp[0]  -0.027  0.277  -0.543    0.490      0.004    0.003    5257.0   \n",
       "grp[1]  -0.015  0.277  -0.520    0.515      0.004    0.003    5247.0   \n",
       "grp[2]  -0.006  0.277  -0.531    0.503      0.004    0.003    5254.0   \n",
       "mu_coup  0.111  0.020   0.073    0.149      0.000    0.000   15136.0   \n",
       "\n",
       "         ess_tail  r_hat  \n",
       "grp[0]     5816.0    1.0  \n",
       "grp[1]     5581.0    1.0  \n",
       "grp[2]     5601.0    1.0  \n",
       "mu_coup    6073.0    1.0  "
      ]
     },
     "execution_count": 35,
     "metadata": {},
     "output_type": "execute_result"
    }
   ],
   "source": [
    "az.summary(trace_peG, var_names=['grp', 'mu_coup'])"
   ]
  },
  {
   "cell_type": "code",
   "execution_count": 25,
   "id": "6dc94f6f-569a-4a36-a35e-1755e414fe5d",
   "metadata": {},
   "outputs": [
    {
     "data": {
      "text/plain": [
       "<matplotlib.legend.Legend at 0x2b54aeb6e790>"
      ]
     },
     "execution_count": 25,
     "metadata": {},
     "output_type": "execute_result"
    },
    {
     "data": {
      "image/png": "[encoded data removed]",
      "text/plain": [
       "<Figure size 432x288 with 1 Axes>"
      ]
     },
     "metadata": {
      "needs_background": "light"
     },
     "output_type": "display_data"
    }
   ],
   "source": [
    "trStackedGpe = trace_peG.posterior.stack(draws=('chain','draw'))\n",
    "trHC = trStackedGpe.grp[0,:].values\n",
    "trCC = trStackedGpe.grp[1,:].values\n",
    "trPTSD = trStackedGpe.grp[2,:].values\n",
    "sns.histplot(trHC, label = 'HC', color = 'blue')\n",
    "sns.histplot(trCC, label= 'CC', color = 'orange')\n",
    "sns.histplot(trPTSD, label = 'PTSD', color = 'red')\n",
    "plt.legend()"
   ]
  },
  {
   "cell_type": "code",
   "execution_count": 39,
   "id": "1e5eb639-d011-447e-90e2-3af941dbb9e7",
   "metadata": {},
   "outputs": [
    {
     "name": "stderr",
     "output_type": "stream",
     "text": [
      "arviz - WARNING - Shape validation failed: input_shape: (1, 8000), minimum_shape: (chains=2, draws=4)\n"
     ]
    },
    {
     "data": {
      "text/html": [
       "<div>\n",
       "<style scoped>\n",
       "    .dataframe tbody tr th:only-of-type {\n",
       "        vertical-align: middle;\n",
       "    }\n",
       "\n",
       "    .dataframe tbody tr th {\n",
       "        vertical-align: top;\n",
       "    }\n",
       "\n",
       "    .dataframe thead th {\n",
       "        text-align: right;\n",
       "    }\n",
       "</style>\n",
       "<table border=\"1\" class=\"dataframe\">\n",
       "  <thead>\n",
       "    <tr style=\"text-align: right;\">\n",
       "      <th></th>\n",
       "      <th>mean</th>\n",
       "      <th>sd</th>\n",
       "      <th>hdi_2.5%</th>\n",
       "      <th>hdi_97.5%</th>\n",
       "      <th>mcse_mean</th>\n",
       "      <th>mcse_sd</th>\n",
       "      <th>ess_bulk</th>\n",
       "      <th>ess_tail</th>\n",
       "      <th>r_hat</th>\n",
       "    </tr>\n",
       "  </thead>\n",
       "  <tbody>\n",
       "    <tr>\n",
       "      <th>x</th>\n",
       "      <td>-0.016</td>\n",
       "      <td>0.277</td>\n",
       "      <td>-0.541</td>\n",
       "      <td>0.534</td>\n",
       "      <td>0.004</td>\n",
       "      <td>0.003</td>\n",
       "      <td>5234.0</td>\n",
       "      <td>5569.0</td>\n",
       "      <td>NaN</td>\n",
       "    </tr>\n",
       "  </tbody>\n",
       "</table>\n",
       "</div>"
      ],
      "text/plain": [
       "    mean     sd  hdi_2.5%  hdi_97.5%  mcse_mean  mcse_sd  ess_bulk  ess_tail  \\\n",
       "x -0.016  0.277    -0.541      0.534      0.004    0.003    5234.0    5569.0   \n",
       "\n",
       "   r_hat  \n",
       "x    NaN  "
      ]
     },
     "execution_count": 39,
     "metadata": {},
     "output_type": "execute_result"
    },
    {
     "data": {
      "image/png": "[encoded data removed]",
      "text/plain": [
       "<Figure size 432x288 with 1 Axes>"
      ]
     },
     "metadata": {
      "needs_background": "light"
     },
     "output_type": "display_data"
    }
   ],
   "source": [
    "# mean effect for group\n",
    "grp_total = np.mean(trStackedGpe.grp.values, axis=0)\n",
    "az.plot_posterior(grp_total, hdi_prob=.95, kind='hist', ref_val=0)\n",
    "az.summary(grp_total, hdi_prob=.95)"
   ]
  },
  {
   "cell_type": "code",
   "execution_count": 40,
   "id": "fafebdc1-8f80-44b0-9674-b1a8eef9dd3e",
   "metadata": {},
   "outputs": [
    {
     "data": {
      "text/plain": [
       "0.057761732851985555"
      ]
     },
     "execution_count": 40,
     "metadata": {},
     "output_type": "execute_result"
    }
   ],
   "source": [
    "0.016/0.277"
   ]
  },
  {
   "cell_type": "code",
   "execution_count": 34,
   "id": "bd9edb07-f45b-4268-9f42-91cbbfb4371a",
   "metadata": {},
   "outputs": [
    {
     "data": {
      "text/plain": [
       "<AxesSubplot:title={'center':'x'}>"
      ]
     },
     "execution_count": 34,
     "metadata": {},
     "output_type": "execute_result"
    },
    {
     "data": {
      "image/png": "[encoded data removed]",
      "text/plain": [
       "<Figure size 432x288 with 1 Axes>"
      ]
     },
     "metadata": {
      "needs_background": "light"
     },
     "output_type": "display_data"
    }
   ],
   "source": [
    "az.plot_posterior(trPTSD - trHC, hdi_prob=.95, kind='hist', ref_val=0)"
   ]
  },
  {
   "cell_type": "code",
   "execution_count": 31,
   "id": "ec928c08-206c-401f-a63c-cb2107e420d6",
   "metadata": {},
   "outputs": [
    {
     "data": {
      "text/plain": [
       "<AxesSubplot:title={'center':'x'}>"
      ]
     },
     "execution_count": 31,
     "metadata": {},
     "output_type": "execute_result"
    },
    {
     "data": {
      "image/png": "[encoded data removed]",
      "text/plain": [
       "<Figure size 432x288 with 1 Axes>"
      ]
     },
     "metadata": {
      "needs_background": "light"
     },
     "output_type": "display_data"
    }
   ],
   "source": [
    "az.plot_posterior(trPTSD - trCC, hdi_prob=.95, kind='hist', ref_val=0)"
   ]
  },
  {
   "cell_type": "code",
   "execution_count": 32,
   "id": "03bbcc5e-7f17-4b04-aef5-e1de05bef80a",
   "metadata": {},
   "outputs": [
    {
     "data": {
      "text/plain": [
       "<AxesSubplot:title={'center':'x'}>"
      ]
     },
     "execution_count": 32,
     "metadata": {},
     "output_type": "execute_result"
    },
    {
     "data": {
      "image/png": "[encoded data removed]",
      "text/plain": [
       "<Figure size 432x288 with 1 Axes>"
      ]
     },
     "metadata": {
      "needs_background": "light"
     },
     "output_type": "display_data"
    }
   ],
   "source": [
    "az.plot_posterior(trCC - trHC, hdi_prob=.95, kind='hist', ref_val=0)"
   ]
  }
 ],
 "metadata": {
  "kernelspec": {
   "display_name": "Python 3 (ipykernel)",
   "language": "python",
   "name": "python3"
  },
  "language_info": {
   "codemirror_mode": {
    "name": "ipython",
    "version": 3
   },
   "file_extension": ".py",
   "mimetype": "text/x-python",
   "name": "python",
   "nbconvert_exporter": "python",
   "pygments_lexer": "ipython3",
   "version": "3.9.9"
  }
 },
 "nbformat": 4,
 "nbformat_minor": 5
}
