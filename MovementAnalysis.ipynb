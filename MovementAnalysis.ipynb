{
 "cells": [
  {
   "cell_type": "markdown",
   "id": "3b79f87e-6d81-4e31-bb52-e343eeea1c65",
   "metadata": {},
   "source": [
    "## Analysis of movement during different conditions\n",
    "- Comparing the CS+US vs. CS+ and CS- in movement\n"
   ]
  },
  {
   "cell_type": "code",
   "execution_count": 1,
   "id": "85bd0551-2521-46fc-ab89-f88d62b95d43",
   "metadata": {},
   "outputs": [
    {
     "name": "stderr",
     "output_type": "stream",
     "text": [
      "/gpfs/ysm/project/joormann/oad4/conda_envs/neuroAnalysis/lib/python3.9/site-packages/outdated/utils.py:14: OutdatedPackageWarning: The package pingouin is out of date. Your version is 0.5.1, the latest is 0.5.2.\n",
      "Set the environment variable OUTDATED_IGNORE=1 to disable these warnings.\n",
      "  return warn(\n"
     ]
    }
   ],
   "source": [
    "import pandas as pd\n",
    "import numpy as np\n",
    "import matplotlib.pyplot as plt\n",
    "import seaborn as sns\n",
    "import glob\n",
    "\n",
    "import pingouin as pg\n",
    "import pymc3 as pm\n",
    "import arviz as az"
   ]
  },
  {
   "cell_type": "code",
   "execution_count": 3,
   "id": "b7fe4ad5-f001-4b45-8084-7aaad5c69cc4",
   "metadata": {},
   "outputs": [],
   "source": [
    "df2 = pd.read_csv('data/fdData.csv')"
   ]
  },
  {
   "cell_type": "code",
   "execution_count": 4,
   "id": "c3d6cd89-5c9d-4126-b335-7b1d65efd3d2",
   "metadata": {},
   "outputs": [
    {
     "data": {
      "text/html": [
       "<div>\n",
       "<style scoped>\n",
       "    .dataframe tbody tr th:only-of-type {\n",
       "        vertical-align: middle;\n",
       "    }\n",
       "\n",
       "    .dataframe tbody tr th {\n",
       "        vertical-align: top;\n",
       "    }\n",
       "\n",
       "    .dataframe thead th {\n",
       "        text-align: right;\n",
       "    }\n",
       "</style>\n",
       "<table border=\"1\" class=\"dataframe\">\n",
       "  <thead>\n",
       "    <tr style=\"text-align: right;\">\n",
       "      <th></th>\n",
       "      <th>Source</th>\n",
       "      <th>ddof1</th>\n",
       "      <th>ddof2</th>\n",
       "      <th>F</th>\n",
       "      <th>p-unc</th>\n",
       "      <th>np2</th>\n",
       "      <th>eps</th>\n",
       "    </tr>\n",
       "  </thead>\n",
       "  <tbody>\n",
       "    <tr>\n",
       "      <th>0</th>\n",
       "      <td>cond</td>\n",
       "      <td>2</td>\n",
       "      <td>128</td>\n",
       "      <td>2.285206</td>\n",
       "      <td>0.10589</td>\n",
       "      <td>0.034475</td>\n",
       "      <td>0.622016</td>\n",
       "    </tr>\n",
       "  </tbody>\n",
       "</table>\n",
       "</div>"
      ],
      "text/plain": [
       "  Source  ddof1  ddof2         F    p-unc       np2       eps\n",
       "0   cond      2    128  2.285206  0.10589  0.034475  0.622016"
      ]
     },
     "execution_count": 4,
     "metadata": {},
     "output_type": "execute_result"
    }
   ],
   "source": [
    "pg.rm_anova(data=df2, dv='fd', within='cond', subject='subject')"
   ]
  },
  {
   "cell_type": "code",
   "execution_count": 6,
   "id": "30bbd1f2-0653-4100-9170-debff926f97c",
   "metadata": {},
   "outputs": [
    {
     "data": {
      "text/html": [
       "<div>\n",
       "<style scoped>\n",
       "    .dataframe tbody tr th:only-of-type {\n",
       "        vertical-align: middle;\n",
       "    }\n",
       "\n",
       "    .dataframe tbody tr th {\n",
       "        vertical-align: top;\n",
       "    }\n",
       "\n",
       "    .dataframe thead tr th {\n",
       "        text-align: left;\n",
       "    }\n",
       "\n",
       "    .dataframe thead tr:last-of-type th {\n",
       "        text-align: right;\n",
       "    }\n",
       "</style>\n",
       "<table border=\"1\" class=\"dataframe\">\n",
       "  <thead>\n",
       "    <tr>\n",
       "      <th></th>\n",
       "      <th colspan=\"8\" halign=\"left\">fd</th>\n",
       "    </tr>\n",
       "    <tr>\n",
       "      <th></th>\n",
       "      <th>count</th>\n",
       "      <th>mean</th>\n",
       "      <th>std</th>\n",
       "      <th>min</th>\n",
       "      <th>25%</th>\n",
       "      <th>50%</th>\n",
       "      <th>75%</th>\n",
       "      <th>max</th>\n",
       "    </tr>\n",
       "    <tr>\n",
       "      <th>cond</th>\n",
       "      <th></th>\n",
       "      <th></th>\n",
       "      <th></th>\n",
       "      <th></th>\n",
       "      <th></th>\n",
       "      <th></th>\n",
       "      <th></th>\n",
       "      <th></th>\n",
       "    </tr>\n",
       "  </thead>\n",
       "  <tbody>\n",
       "    <tr>\n",
       "      <th>CS</th>\n",
       "      <td>65.0</td>\n",
       "      <td>0.166985</td>\n",
       "      <td>0.092822</td>\n",
       "      <td>0.061886</td>\n",
       "      <td>0.107435</td>\n",
       "      <td>0.141123</td>\n",
       "      <td>0.193194</td>\n",
       "      <td>0.582391</td>\n",
       "    </tr>\n",
       "    <tr>\n",
       "      <th>CSm</th>\n",
       "      <td>65.0</td>\n",
       "      <td>0.179450</td>\n",
       "      <td>0.114984</td>\n",
       "      <td>0.064717</td>\n",
       "      <td>0.116680</td>\n",
       "      <td>0.142291</td>\n",
       "      <td>0.206081</td>\n",
       "      <td>0.721009</td>\n",
       "    </tr>\n",
       "    <tr>\n",
       "      <th>US</th>\n",
       "      <td>65.0</td>\n",
       "      <td>0.178781</td>\n",
       "      <td>0.108516</td>\n",
       "      <td>0.069305</td>\n",
       "      <td>0.118852</td>\n",
       "      <td>0.147927</td>\n",
       "      <td>0.207947</td>\n",
       "      <td>0.715791</td>\n",
       "    </tr>\n",
       "  </tbody>\n",
       "</table>\n",
       "</div>"
      ],
      "text/plain": [
       "        fd                                                              \\\n",
       "     count      mean       std       min       25%       50%       75%   \n",
       "cond                                                                     \n",
       "CS    65.0  0.166985  0.092822  0.061886  0.107435  0.141123  0.193194   \n",
       "CSm   65.0  0.179450  0.114984  0.064717  0.116680  0.142291  0.206081   \n",
       "US    65.0  0.178781  0.108516  0.069305  0.118852  0.147927  0.207947   \n",
       "\n",
       "                \n",
       "           max  \n",
       "cond            \n",
       "CS    0.582391  \n",
       "CSm   0.721009  \n",
       "US    0.715791  "
      ]
     },
     "execution_count": 6,
     "metadata": {},
     "output_type": "execute_result"
    }
   ],
   "source": [
    "df2.groupby('cond').describe()"
   ]
  },
  {
   "cell_type": "code",
   "execution_count": 7,
   "id": "ccfb5339-6d03-4c7f-b4e1-53e06eebebaf",
   "metadata": {},
   "outputs": [
    {
     "data": {
      "text/plain": [
       "<AxesSubplot:xlabel='cond', ylabel='fd'>"
      ]
     },
     "execution_count": 7,
     "metadata": {},
     "output_type": "execute_result"
    },
    {
     "data": {
      "image/png": "[encoded data removed]",
      "text/plain": [
       "<Figure size 432x288 with 1 Axes>"
      ]
     },
     "metadata": {
      "needs_background": "light"
     },
     "output_type": "display_data"
    }
   ],
   "source": [
    "sns.swarmplot(x='cond', y='fd', data=df2)"
   ]
  },
  {
   "cell_type": "markdown",
   "id": "482ef3ca-5073-43c8-abb7-146578bc0af3",
   "metadata": {},
   "source": [
    "No difference between the different conditions."
   ]
  },
  {
   "cell_type": "markdown",
   "id": "1f3c67de-60df-447e-bfc9-b406816798b2",
   "metadata": {},
   "source": [
    "# Bayesian analysis"
   ]
  },
  {
   "cell_type": "code",
   "execution_count": 8,
   "id": "ea958b4c-5dde-4d3c-be19-209b85cb4e6a",
   "metadata": {},
   "outputs": [],
   "source": [
    "df2['subject'] = df2['subject'].astype('category')\n",
    "#df['condition'] = df['condition'].astype('category')\n",
    "\n",
    "n_sub = len(df2['subject'].unique())\n",
    "subIDX = df2['subject'].cat.codes.values\n",
    "# condition\n",
    "n_cond = len(df2['cond'].unique())\n",
    "#condIDX = df['condition'].cat.codes.values\n",
    "\n",
    "# trialNo\n",
    "y = df2['fd'].values\n",
    "\n",
    "df2['cond'] = df2['cond'].astype('category')\n",
    "# generating condition index\n",
    "condIDX = df2.cond.cat.codes.values"
   ]
  },
  {
   "cell_type": "code",
   "execution_count": 9,
   "id": "6eea49f4-184e-48f1-bce0-155df973cca6",
   "metadata": {},
   "outputs": [
    {
     "name": "stderr",
     "output_type": "stream",
     "text": [
      "\n",
      "KeyboardInterrupt\n",
      "\n"
     ]
    }
   ],
   "source": [
    "with pm.Model() as model1:\n",
    "    \n",
    "    \n",
    "    mu_a = pm.Normal('mu_a', mu=0, sigma=.5)\n",
    "    sigma_a = pm.HalfCauchy('sigma_a', .5)\n",
    "    a_matt = pm.Normal('a_matt', mu=0, sd=1, shape=n_sub)\n",
    "    a = pm.Deterministic('a', mu_a + sigma_a*a_matt)\n",
    "    \n",
    "    mu_b = pm.Normal('mu_b', mu=0, sigma=.5)\n",
    "    sigma_b = pm.HalfCauchy('sigma_b', .5)\n",
    "    b_matt = pm.Normal('b_matt', mu=0, sigma=1, shape=n_cond)\n",
    "    b_cond = pm.Deterministic('b_cond', mu_b + sigma_b*b_matt)\n",
    "     \n",
    "  \n",
    "    eps = pm.HalfCauchy('eps', .5)\n",
    "    \n",
    "    # make mu a determenistic distribution so we can test later vs. actual data\n",
    "    \n",
    "    mu = pm.Deterministic('mu',a[subIDX] + b_cond[condIDX])\n",
    "    \n",
    "    y_hat = pm.Normal('y_hat', mu=mu, sigma=eps, observed=y)\n",
    "    \n",
    "    trace = pm.sample(target_accept=.95, chains=4, cores=10, return_inferencedata=True, draws=2000, tune=2000)    "
   ]
  },
  {
   "cell_type": "code",
   "execution_count": null,
   "id": "b8e24a20-b317-45c9-bd5f-4455625a1929",
   "metadata": {},
   "outputs": [],
   "source": [
    "az.summary(trace, var_names=['mu_a','mu_b'], hdi_prob=.95)"
   ]
  },
  {
   "cell_type": "code",
   "execution_count": 11,
   "id": "f0cbedd1-e2b3-4d19-a63c-13e314a468d9",
   "metadata": {},
   "outputs": [],
   "source": [
    "# stacking\n",
    "trStacked = trace.posterior.stack(draws=('chain','draw'))"
   ]
  },
  {
   "cell_type": "code",
   "execution_count": 12,
   "id": "0fe249ee-cf29-4744-b508-7d0d49922f9a",
   "metadata": {},
   "outputs": [],
   "source": [
    "csminus = trStacked.b_cond[0,:].values\n",
    "csplus = trStacked.b_cond[1,:].values\n",
    "csPlusUS = trStacked.b_cond[2,:].values\n",
    "csall = np.mean(np.stack([csminus, csplus]), axis=0) # averaging across CSs\n",
    "usVcs = csPlusUS - csall"
   ]
  },
  {
   "cell_type": "code",
   "execution_count": 13,
   "id": "c894062f-cae5-4c4f-ac40-0c338d5f4949",
   "metadata": {},
   "outputs": [
    {
     "data": {
      "text/plain": [
       "Text(0.5, 1.0, 'CSPlusUS-CS Movement')"
      ]
     },
     "execution_count": 13,
     "metadata": {},
     "output_type": "execute_result"
    },
    {
     "data": {
      "text/plain": [
       "<Figure size 1296x216 with 0 Axes>"
      ]
     },
     "metadata": {},
     "output_type": "display_data"
    },
    {
     "data": {
      "image/png": "[encoded data removed]",
      "text/plain": [
       "<Figure size 432x288 with 1 Axes>"
      ]
     },
     "metadata": {
      "needs_background": "light"
     },
     "output_type": "display_data"
    }
   ],
   "source": [
    "sns.set_style('ticks')\n",
    "fig = plt.figure(figsize=(18,3))\n",
    "az.plot_posterior(usVcs, point_estimate='mean', kind='hist', ref_val=0).set_title(\"CSPlusUS-CS Movement\")\n"
   ]
  },
  {
   "cell_type": "code",
   "execution_count": 14,
   "id": "32be9eaf-4113-4dab-9cdc-dfd5b31e188d",
   "metadata": {},
   "outputs": [
    {
     "data": {
      "text/plain": [
       "0.777"
      ]
     },
     "execution_count": 14,
     "metadata": {},
     "output_type": "execute_result"
    }
   ],
   "source": [
    "sum(usVcs > 0) / 8000"
   ]
  },
  {
   "cell_type": "code",
   "execution_count": 15,
   "id": "8aebdb17-e4fe-4596-b2a0-cc7de695382f",
   "metadata": {},
   "outputs": [
    {
     "name": "stderr",
     "output_type": "stream",
     "text": [
      "arviz - WARNING - Shape validation failed: input_shape: (1, 8000), minimum_shape: (chains=2, draws=4)\n"
     ]
    },
    {
     "name": "stdout",
     "output_type": "stream",
     "text": [
      "Standardized coeficient 0.7649035755620005\n"
     ]
    },
    {
     "data": {
      "text/html": [
       "<div>\n",
       "<style scoped>\n",
       "    .dataframe tbody tr th:only-of-type {\n",
       "        vertical-align: middle;\n",
       "    }\n",
       "\n",
       "    .dataframe tbody tr th {\n",
       "        vertical-align: top;\n",
       "    }\n",
       "\n",
       "    .dataframe thead th {\n",
       "        text-align: right;\n",
       "    }\n",
       "</style>\n",
       "<table border=\"1\" class=\"dataframe\">\n",
       "  <thead>\n",
       "    <tr style=\"text-align: right;\">\n",
       "      <th></th>\n",
       "      <th>mean</th>\n",
       "      <th>sd</th>\n",
       "      <th>hdi_2.5%</th>\n",
       "      <th>hdi_97.5%</th>\n",
       "      <th>mcse_mean</th>\n",
       "      <th>mcse_sd</th>\n",
       "      <th>ess_bulk</th>\n",
       "      <th>ess_tail</th>\n",
       "      <th>r_hat</th>\n",
       "    </tr>\n",
       "  </thead>\n",
       "  <tbody>\n",
       "    <tr>\n",
       "      <th>x</th>\n",
       "      <td>0.004</td>\n",
       "      <td>0.005</td>\n",
       "      <td>-0.005</td>\n",
       "      <td>0.015</td>\n",
       "      <td>0.0</td>\n",
       "      <td>0.0</td>\n",
       "      <td>5948.0</td>\n",
       "      <td>7452.0</td>\n",
       "      <td>NaN</td>\n",
       "    </tr>\n",
       "  </tbody>\n",
       "</table>\n",
       "</div>"
      ],
      "text/plain": [
       "    mean     sd  hdi_2.5%  hdi_97.5%  mcse_mean  mcse_sd  ess_bulk  ess_tail  \\\n",
       "x  0.004  0.005    -0.005      0.015        0.0      0.0    5948.0    7452.0   \n",
       "\n",
       "   r_hat  \n",
       "x    NaN  "
      ]
     },
     "execution_count": 15,
     "metadata": {},
     "output_type": "execute_result"
    }
   ],
   "source": [
    "print(f'Standardized coeficient {np.mean(usVcs) / np.std(usVcs)}')\n",
    "az.summary(usVcs, hdi_prob=0.95)"
   ]
  }
 ],
 "metadata": {
  "kernelspec": {
   "display_name": "Python 3 (ipykernel)",
   "language": "python",
   "name": "python3"
  },
  "language_info": {
   "codemirror_mode": {
    "name": "ipython",
    "version": 3
   },
   "file_extension": ".py",
   "mimetype": "text/x-python",
   "name": "python",
   "nbconvert_exporter": "python",
   "pygments_lexer": "ipython3",
   "version": "3.9.9"
  }
 },
 "nbformat": 4,
 "nbformat_minor": 5
}
