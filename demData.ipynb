{
 "cells": [
  {
   "cell_type": "markdown",
   "id": "3f713837-6e71-4896-9832-eeb73e9cde5c",
   "metadata": {
    "tags": []
   },
   "source": [
    "# Organize demographic data"
   ]
  },
  {
   "cell_type": "code",
   "execution_count": 1,
   "id": "0470ef09-a166-41e4-8bdb-bc4ed0e4fba5",
   "metadata": {},
   "outputs": [
    {
     "name": "stderr",
     "output_type": "stream",
     "text": [
      "/gpfs/ysm/project/joormann/oad4/conda_envs/neuroAnalysis/lib/python3.9/site-packages/outdated/utils.py:14: OutdatedPackageWarning: The package pingouin is out of date. Your version is 0.5.1, the latest is 0.5.2.\n",
      "Set the environment variable OUTDATED_IGNORE=1 to disable these warnings.\n",
      "  return warn(\n"
     ]
    }
   ],
   "source": [
    "import pandas as pd\n",
    "import numpy as np\n",
    "import matplotlib.pyplot as plt\n",
    "import seaborn as sns\n",
    "# for stat of demographic\n",
    "import pingouin as pg"
   ]
  },
  {
   "cell_type": "code",
   "execution_count": 2,
   "id": "a407a47a-11df-489a-9339-ccfcbceeaf4a",
   "metadata": {},
   "outputs": [],
   "source": [
    "dm = pd.read_csv('data/demographic.csv')\n",
    "\n",
    "dfAll = pd.read_csv('data/scr_clean2.csv')"
   ]
  },
  {
   "cell_type": "code",
   "execution_count": 12,
   "id": "69e8e3d3-8414-4a86-95fd-8550223adde4",
   "metadata": {},
   "outputs": [
    {
     "data": {
      "text/plain": [
       "65"
      ]
     },
     "execution_count": 12,
     "metadata": {},
     "output_type": "execute_result"
    }
   ],
   "source": [
    "# find were same subject occur\n",
    "both = set(dfAll['sub'].unique()).intersection(dm['sub_id'].unique()) \n",
    "len(both)"
   ]
  },
  {
   "cell_type": "code",
   "execution_count": 13,
   "id": "f3758290-c035-44ed-bf2c-ce50173c0035",
   "metadata": {},
   "outputs": [
    {
     "data": {
      "text/html": [
       "<div>\n",
       "<style scoped>\n",
       "    .dataframe tbody tr th:only-of-type {\n",
       "        vertical-align: middle;\n",
       "    }\n",
       "\n",
       "    .dataframe tbody tr th {\n",
       "        vertical-align: top;\n",
       "    }\n",
       "\n",
       "    .dataframe thead th {\n",
       "        text-align: right;\n",
       "    }\n",
       "</style>\n",
       "<table border=\"1\" class=\"dataframe\">\n",
       "  <thead>\n",
       "    <tr style=\"text-align: right;\">\n",
       "      <th></th>\n",
       "      <th>sub_id</th>\n",
       "      <th>group</th>\n",
       "      <th>Gender</th>\n",
       "      <th>Age</th>\n",
       "    </tr>\n",
       "  </thead>\n",
       "  <tbody>\n",
       "    <tr>\n",
       "      <th>0</th>\n",
       "      <td>sub-010</td>\n",
       "      <td>VCC</td>\n",
       "      <td>2.0</td>\n",
       "      <td>29.0</td>\n",
       "    </tr>\n",
       "    <tr>\n",
       "      <th>1</th>\n",
       "      <td>sub-016</td>\n",
       "      <td>VCC</td>\n",
       "      <td>1.0</td>\n",
       "      <td>25.0</td>\n",
       "    </tr>\n",
       "    <tr>\n",
       "      <th>3</th>\n",
       "      <td>sub-026</td>\n",
       "      <td>VPTSD</td>\n",
       "      <td>1.0</td>\n",
       "      <td>32.0</td>\n",
       "    </tr>\n",
       "    <tr>\n",
       "      <th>4</th>\n",
       "      <td>sub-027</td>\n",
       "      <td>VCC</td>\n",
       "      <td>1.0</td>\n",
       "      <td>35.0</td>\n",
       "    </tr>\n",
       "    <tr>\n",
       "      <th>5</th>\n",
       "      <td>sub-030</td>\n",
       "      <td>VPTSD</td>\n",
       "      <td>1.0</td>\n",
       "      <td>44.0</td>\n",
       "    </tr>\n",
       "  </tbody>\n",
       "</table>\n",
       "</div>"
      ],
      "text/plain": [
       "    sub_id  group  Gender   Age\n",
       "0  sub-010    VCC     2.0  29.0\n",
       "1  sub-016    VCC     1.0  25.0\n",
       "3  sub-026  VPTSD     1.0  32.0\n",
       "4  sub-027    VCC     1.0  35.0\n",
       "5  sub-030  VPTSD     1.0  44.0"
      ]
     },
     "execution_count": 13,
     "metadata": {},
     "output_type": "execute_result"
    }
   ],
   "source": [
    "# grab demographic only of those in both\n",
    "dm_clean = dm[dm['sub_id'].isin(both)]\n",
    "dm_clean.head()"
   ]
  },
  {
   "cell_type": "code",
   "execution_count": 14,
   "id": "c1476207-ae8c-4363-8a64-178db3d0cc93",
   "metadata": {},
   "outputs": [
    {
     "data": {
      "text/plain": [
       "65"
      ]
     },
     "execution_count": 14,
     "metadata": {},
     "output_type": "execute_result"
    }
   ],
   "source": [
    "len(dm_clean['sub_id'])"
   ]
  },
  {
   "cell_type": "code",
   "execution_count": 15,
   "id": "60096c0a-eddb-4934-b8c1-46353c8444ac",
   "metadata": {},
   "outputs": [
    {
     "data": {
      "text/html": [
       "<div>\n",
       "<style scoped>\n",
       "    .dataframe tbody tr th:only-of-type {\n",
       "        vertical-align: middle;\n",
       "    }\n",
       "\n",
       "    .dataframe tbody tr th {\n",
       "        vertical-align: top;\n",
       "    }\n",
       "\n",
       "    .dataframe thead th {\n",
       "        text-align: right;\n",
       "    }\n",
       "</style>\n",
       "<table border=\"1\" class=\"dataframe\">\n",
       "  <thead>\n",
       "    <tr style=\"text-align: right;\">\n",
       "      <th></th>\n",
       "      <th>Gender</th>\n",
       "      <th>Age</th>\n",
       "    </tr>\n",
       "  </thead>\n",
       "  <tbody>\n",
       "    <tr>\n",
       "      <th>count</th>\n",
       "      <td>65.000000</td>\n",
       "      <td>65.000000</td>\n",
       "    </tr>\n",
       "    <tr>\n",
       "      <th>mean</th>\n",
       "      <td>1.184615</td>\n",
       "      <td>30.353846</td>\n",
       "    </tr>\n",
       "    <tr>\n",
       "      <th>std</th>\n",
       "      <td>0.391005</td>\n",
       "      <td>7.657575</td>\n",
       "    </tr>\n",
       "    <tr>\n",
       "      <th>min</th>\n",
       "      <td>1.000000</td>\n",
       "      <td>18.000000</td>\n",
       "    </tr>\n",
       "    <tr>\n",
       "      <th>25%</th>\n",
       "      <td>1.000000</td>\n",
       "      <td>25.000000</td>\n",
       "    </tr>\n",
       "    <tr>\n",
       "      <th>50%</th>\n",
       "      <td>1.000000</td>\n",
       "      <td>29.000000</td>\n",
       "    </tr>\n",
       "    <tr>\n",
       "      <th>75%</th>\n",
       "      <td>1.000000</td>\n",
       "      <td>34.000000</td>\n",
       "    </tr>\n",
       "    <tr>\n",
       "      <th>max</th>\n",
       "      <td>2.000000</td>\n",
       "      <td>51.000000</td>\n",
       "    </tr>\n",
       "  </tbody>\n",
       "</table>\n",
       "</div>"
      ],
      "text/plain": [
       "          Gender        Age\n",
       "count  65.000000  65.000000\n",
       "mean    1.184615  30.353846\n",
       "std     0.391005   7.657575\n",
       "min     1.000000  18.000000\n",
       "25%     1.000000  25.000000\n",
       "50%     1.000000  29.000000\n",
       "75%     1.000000  34.000000\n",
       "max     2.000000  51.000000"
      ]
     },
     "execution_count": 15,
     "metadata": {},
     "output_type": "execute_result"
    }
   ],
   "source": [
    "dm_clean.describe()"
   ]
  },
  {
   "cell_type": "code",
   "execution_count": 17,
   "id": "3db3f9df-78ad-40cc-a206-2a189355a8ba",
   "metadata": {},
   "outputs": [
    {
     "data": {
      "text/html": [
       "<div>\n",
       "<style scoped>\n",
       "    .dataframe tbody tr th:only-of-type {\n",
       "        vertical-align: middle;\n",
       "    }\n",
       "\n",
       "    .dataframe tbody tr th {\n",
       "        vertical-align: top;\n",
       "    }\n",
       "\n",
       "    .dataframe thead tr th {\n",
       "        text-align: left;\n",
       "    }\n",
       "\n",
       "    .dataframe thead tr:last-of-type th {\n",
       "        text-align: right;\n",
       "    }\n",
       "</style>\n",
       "<table border=\"1\" class=\"dataframe\">\n",
       "  <thead>\n",
       "    <tr>\n",
       "      <th></th>\n",
       "      <th></th>\n",
       "      <th colspan=\"8\" halign=\"left\">Age</th>\n",
       "    </tr>\n",
       "    <tr>\n",
       "      <th></th>\n",
       "      <th></th>\n",
       "      <th>count</th>\n",
       "      <th>mean</th>\n",
       "      <th>std</th>\n",
       "      <th>min</th>\n",
       "      <th>25%</th>\n",
       "      <th>50%</th>\n",
       "      <th>75%</th>\n",
       "      <th>max</th>\n",
       "    </tr>\n",
       "    <tr>\n",
       "      <th>group</th>\n",
       "      <th>Gender</th>\n",
       "      <th></th>\n",
       "      <th></th>\n",
       "      <th></th>\n",
       "      <th></th>\n",
       "      <th></th>\n",
       "      <th></th>\n",
       "      <th></th>\n",
       "      <th></th>\n",
       "    </tr>\n",
       "  </thead>\n",
       "  <tbody>\n",
       "    <tr>\n",
       "      <th rowspan=\"2\" valign=\"top\">HC</th>\n",
       "      <th>1.0</th>\n",
       "      <td>12.0</td>\n",
       "      <td>23.750000</td>\n",
       "      <td>3.250874</td>\n",
       "      <td>18.0</td>\n",
       "      <td>21.75</td>\n",
       "      <td>24.0</td>\n",
       "      <td>26.25</td>\n",
       "      <td>29.0</td>\n",
       "    </tr>\n",
       "    <tr>\n",
       "      <th>2.0</th>\n",
       "      <td>7.0</td>\n",
       "      <td>26.428571</td>\n",
       "      <td>4.503967</td>\n",
       "      <td>21.0</td>\n",
       "      <td>24.00</td>\n",
       "      <td>25.0</td>\n",
       "      <td>28.50</td>\n",
       "      <td>34.0</td>\n",
       "    </tr>\n",
       "    <tr>\n",
       "      <th rowspan=\"2\" valign=\"top\">VCC</th>\n",
       "      <th>1.0</th>\n",
       "      <td>23.0</td>\n",
       "      <td>32.434783</td>\n",
       "      <td>7.328810</td>\n",
       "      <td>24.0</td>\n",
       "      <td>27.00</td>\n",
       "      <td>30.0</td>\n",
       "      <td>38.00</td>\n",
       "      <td>46.0</td>\n",
       "    </tr>\n",
       "    <tr>\n",
       "      <th>2.0</th>\n",
       "      <td>2.0</td>\n",
       "      <td>26.000000</td>\n",
       "      <td>4.242641</td>\n",
       "      <td>23.0</td>\n",
       "      <td>24.50</td>\n",
       "      <td>26.0</td>\n",
       "      <td>27.50</td>\n",
       "      <td>29.0</td>\n",
       "    </tr>\n",
       "    <tr>\n",
       "      <th rowspan=\"2\" valign=\"top\">VPTSD</th>\n",
       "      <th>1.0</th>\n",
       "      <td>18.0</td>\n",
       "      <td>32.944444</td>\n",
       "      <td>8.591872</td>\n",
       "      <td>21.0</td>\n",
       "      <td>27.50</td>\n",
       "      <td>30.5</td>\n",
       "      <td>35.00</td>\n",
       "      <td>51.0</td>\n",
       "    </tr>\n",
       "    <tr>\n",
       "      <th>2.0</th>\n",
       "      <td>3.0</td>\n",
       "      <td>37.333333</td>\n",
       "      <td>3.511885</td>\n",
       "      <td>34.0</td>\n",
       "      <td>35.50</td>\n",
       "      <td>37.0</td>\n",
       "      <td>39.00</td>\n",
       "      <td>41.0</td>\n",
       "    </tr>\n",
       "  </tbody>\n",
       "</table>\n",
       "</div>"
      ],
      "text/plain": [
       "               Age                                                     \n",
       "             count       mean       std   min    25%   50%    75%   max\n",
       "group Gender                                                           \n",
       "HC    1.0     12.0  23.750000  3.250874  18.0  21.75  24.0  26.25  29.0\n",
       "      2.0      7.0  26.428571  4.503967  21.0  24.00  25.0  28.50  34.0\n",
       "VCC   1.0     23.0  32.434783  7.328810  24.0  27.00  30.0  38.00  46.0\n",
       "      2.0      2.0  26.000000  4.242641  23.0  24.50  26.0  27.50  29.0\n",
       "VPTSD 1.0     18.0  32.944444  8.591872  21.0  27.50  30.5  35.00  51.0\n",
       "      2.0      3.0  37.333333  3.511885  34.0  35.50  37.0  39.00  41.0"
      ]
     },
     "execution_count": 17,
     "metadata": {},
     "output_type": "execute_result"
    }
   ],
   "source": [
    "dm_clean.groupby(['group','Gender']).describe()"
   ]
  },
  {
   "cell_type": "code",
   "execution_count": 18,
   "id": "5b6f8586-578f-4822-a644-7936ad4e2ed6",
   "metadata": {},
   "outputs": [
    {
     "data": {
      "text/plain": [
       "<seaborn.axisgrid.PairGrid at 0x2b5ca402b730>"
      ]
     },
     "execution_count": 18,
     "metadata": {},
     "output_type": "execute_result"
    },
    {
     "data": {
      "image/png": "[encoded data removed]",
      "text/plain": [
       "<Figure size 596.125x500 with 6 Axes>"
      ]
     },
     "metadata": {},
     "output_type": "display_data"
    }
   ],
   "source": [
    "sns.pairplot(dm_clean, hue='group')"
   ]
  },
  {
   "cell_type": "code",
   "execution_count": 19,
   "id": "ef568af8-47a8-4b75-94b4-393a952317b1",
   "metadata": {},
   "outputs": [
    {
     "data": {
      "text/html": [
       "<div>\n",
       "<style scoped>\n",
       "    .dataframe tbody tr th:only-of-type {\n",
       "        vertical-align: middle;\n",
       "    }\n",
       "\n",
       "    .dataframe tbody tr th {\n",
       "        vertical-align: top;\n",
       "    }\n",
       "\n",
       "    .dataframe thead th {\n",
       "        text-align: right;\n",
       "    }\n",
       "</style>\n",
       "<table border=\"1\" class=\"dataframe\">\n",
       "  <thead>\n",
       "    <tr style=\"text-align: right;\">\n",
       "      <th></th>\n",
       "      <th>T</th>\n",
       "      <th>dof</th>\n",
       "      <th>alternative</th>\n",
       "      <th>p-val</th>\n",
       "      <th>CI95%</th>\n",
       "      <th>cohen-d</th>\n",
       "      <th>BF10</th>\n",
       "      <th>power</th>\n",
       "    </tr>\n",
       "  </thead>\n",
       "  <tbody>\n",
       "    <tr>\n",
       "      <th>T-test</th>\n",
       "      <td>4.443377</td>\n",
       "      <td>29.194759</td>\n",
       "      <td>two-sided</td>\n",
       "      <td>0.000117</td>\n",
       "      <td>[4.77, 12.9]</td>\n",
       "      <td>1.362001</td>\n",
       "      <td>279.363</td>\n",
       "      <td>0.987148</td>\n",
       "    </tr>\n",
       "  </tbody>\n",
       "</table>\n",
       "</div>"
      ],
      "text/plain": [
       "               T        dof alternative     p-val         CI95%   cohen-d  \\\n",
       "T-test  4.443377  29.194759   two-sided  0.000117  [4.77, 12.9]  1.362001   \n",
       "\n",
       "           BF10     power  \n",
       "T-test  279.363  0.987148  "
      ]
     },
     "execution_count": 19,
     "metadata": {},
     "output_type": "execute_result"
    }
   ],
   "source": [
    "pg.ttest(dm_clean['Age'][dm_clean['group']=='VPTSD'], dm_clean['Age'][dm_clean['group']=='HC'])"
   ]
  },
  {
   "cell_type": "code",
   "execution_count": 20,
   "id": "1a09d9dd-01db-4982-ac49-920c9c1c63d7",
   "metadata": {},
   "outputs": [
    {
     "data": {
      "text/html": [
       "<div>\n",
       "<style scoped>\n",
       "    .dataframe tbody tr th:only-of-type {\n",
       "        vertical-align: middle;\n",
       "    }\n",
       "\n",
       "    .dataframe tbody tr th {\n",
       "        vertical-align: top;\n",
       "    }\n",
       "\n",
       "    .dataframe thead th {\n",
       "        text-align: right;\n",
       "    }\n",
       "</style>\n",
       "<table border=\"1\" class=\"dataframe\">\n",
       "  <thead>\n",
       "    <tr style=\"text-align: right;\">\n",
       "      <th></th>\n",
       "      <th>Source</th>\n",
       "      <th>ddof1</th>\n",
       "      <th>ddof2</th>\n",
       "      <th>F</th>\n",
       "      <th>p-unc</th>\n",
       "      <th>np2</th>\n",
       "    </tr>\n",
       "  </thead>\n",
       "  <tbody>\n",
       "    <tr>\n",
       "      <th>0</th>\n",
       "      <td>group</td>\n",
       "      <td>2</td>\n",
       "      <td>62</td>\n",
       "      <td>9.470324</td>\n",
       "      <td>0.000258</td>\n",
       "      <td>0.234007</td>\n",
       "    </tr>\n",
       "  </tbody>\n",
       "</table>\n",
       "</div>"
      ],
      "text/plain": [
       "  Source  ddof1  ddof2         F     p-unc       np2\n",
       "0  group      2     62  9.470324  0.000258  0.234007"
      ]
     },
     "execution_count": 20,
     "metadata": {},
     "output_type": "execute_result"
    }
   ],
   "source": [
    "pg.anova(data=dm_clean, dv='Age', between='group')"
   ]
  },
  {
   "cell_type": "markdown",
   "id": "af750261-7892-4355-a8e4-0fb305380dc4",
   "metadata": {},
   "source": [
    "Indeed age is significantly different between healthy controls and PTSD/CC groups"
   ]
  },
  {
   "cell_type": "code",
   "execution_count": 21,
   "id": "00766c7a-3544-4f79-8cc8-49b65ad26a06",
   "metadata": {},
   "outputs": [
    {
     "name": "stderr",
     "output_type": "stream",
     "text": [
      "/gpfs/ysm/project/joormann/oad4/conda_envs/neuroAnalysis/lib/python3.9/site-packages/pingouin/contingency.py:151: UserWarning: Low count on observed frequencies.\n",
      "  warnings.warn('Low count on {} frequencies.'.format(name))\n",
      "/gpfs/ysm/project/joormann/oad4/conda_envs/neuroAnalysis/lib/python3.9/site-packages/pingouin/contingency.py:151: UserWarning: Low count on expected frequencies.\n",
      "  warnings.warn('Low count on {} frequencies.'.format(name))\n"
     ]
    },
    {
     "data": {
      "text/plain": [
       "(Gender        1.0       2.0\n",
       " group                      \n",
       " HC      15.492308  3.507692\n",
       " VCC     20.384615  4.615385\n",
       " VPTSD   17.123077  3.876923,\n",
       " Gender  1.0  2.0\n",
       " group           \n",
       " HC       12    7\n",
       " VCC      23    2\n",
       " VPTSD    18    3,\n",
       "                  test    lambda      chi2  dof      pval    cramer     power\n",
       " 0             pearson  1.000000  6.325105  2.0  0.042318  0.311944  0.608265\n",
       " 1        cressie-read  0.666667  6.169202  2.0  0.045748  0.308076  0.596769\n",
       " 2      log-likelihood  0.000000  6.010109  2.0  0.049536  0.304078  0.584808\n",
       " 3       freeman-tukey -0.500000  6.019920  2.0  0.049294  0.304326  0.585552\n",
       " 4  mod-log-likelihood -1.000000  6.143032  2.0  0.046351  0.307422  0.594817\n",
       " 5              neyman -2.000000  6.775240  2.0  0.033789  0.322854  0.640199)"
      ]
     },
     "execution_count": 21,
     "metadata": {},
     "output_type": "execute_result"
    }
   ],
   "source": [
    "pg.chi2_independence(dm_clean, 'group', 'Gender')"
   ]
  },
  {
   "cell_type": "code",
   "execution_count": 22,
   "id": "79375e0e-8895-4ba0-896d-0aceb3bc50a1",
   "metadata": {},
   "outputs": [
    {
     "name": "stderr",
     "output_type": "stream",
     "text": [
      "/gpfs/ysm/project/joormann/oad4/conda_envs/neuroAnalysis/lib/python3.9/site-packages/pingouin/contingency.py:151: UserWarning: Low count on observed frequencies.\n",
      "  warnings.warn('Low count on {} frequencies.'.format(name))\n",
      "/gpfs/ysm/project/joormann/oad4/conda_envs/neuroAnalysis/lib/python3.9/site-packages/pingouin/contingency.py:151: UserWarning: Low count on expected frequencies.\n",
      "  warnings.warn('Low count on {} frequencies.'.format(name))\n"
     ]
    },
    {
     "data": {
      "text/plain": [
       "(Gender        1.0       2.0\n",
       " group                      \n",
       " VCC     22.282609  2.717391\n",
       " VPTSD   18.717391  2.282609,\n",
       " Gender   1.0  2.0\n",
       " group            \n",
       " VCC     22.5  2.5\n",
       " VPTSD   18.5  2.5,\n",
       "                  test    lambda      chi2  dof      pval    cramer     power\n",
       " 0             pearson  1.000000  0.042741  1.0  0.836214  0.030482  0.054910\n",
       " 1        cressie-read  0.666667  0.042688  1.0  0.836313  0.030463  0.054904\n",
       " 2      log-likelihood  0.000000  0.042600  1.0  0.836481  0.030432  0.054894\n",
       " 3       freeman-tukey -0.500000  0.042547  1.0  0.836580  0.030413  0.054888\n",
       " 4  mod-log-likelihood -1.000000  0.042507  1.0  0.836657  0.030398  0.054883\n",
       " 5              neyman -2.000000  0.042462  1.0  0.836741  0.030382  0.054878)"
      ]
     },
     "execution_count": 22,
     "metadata": {},
     "output_type": "execute_result"
    }
   ],
   "source": [
    "pg.chi2_independence(dm_clean[dm_clean['group']!='HC'], 'group', 'Gender')"
   ]
  },
  {
   "cell_type": "markdown",
   "id": "b58eab15-e862-48fd-95c4-617c15131c99",
   "metadata": {},
   "source": [
    "Gender also divides differently in HC group"
   ]
  }
 ],
 "metadata": {
  "kernelspec": {
   "display_name": "Python 3 (ipykernel)",
   "language": "python",
   "name": "python3"
  },
  "language_info": {
   "codemirror_mode": {
    "name": "ipython",
    "version": 3
   },
   "file_extension": ".py",
   "mimetype": "text/x-python",
   "name": "python",
   "nbconvert_exporter": "python",
   "pygments_lexer": "ipython3",
   "version": "3.9.9"
  }
 },
 "nbformat": 4,
 "nbformat_minor": 5
}
