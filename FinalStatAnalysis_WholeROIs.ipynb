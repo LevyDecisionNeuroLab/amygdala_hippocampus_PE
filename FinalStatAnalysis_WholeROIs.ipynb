{
 "cells": [
  {
   "cell_type": "markdown",
   "id": "c6327554-e229-4891-a8d9-e2c16ad38ec5",
   "metadata": {},
   "source": [
    "# Statistical analysis of each model"
   ]
  },
  {
   "cell_type": "code",
   "execution_count": 1,
   "id": "be44c07b-7841-4cf1-9b50-e35dc7a300da",
   "metadata": {},
   "outputs": [],
   "source": [
    "import pandas as pd\n",
    "import numpy as np\n",
    "import pymc3 as pm\n",
    "import arviz as az\n",
    "\n",
    "import matplotlib.pyplot as plt\n",
    "import seaborn as sns\n",
    "\n",
    "import models as m\n"
   ]
  },
  {
   "cell_type": "code",
   "execution_count": 6,
   "id": "3e096463-c347-4124-a125-379c8bf91675",
   "metadata": {},
   "outputs": [],
   "source": [
    "# grab data\n",
    "dfSCR = pd.read_csv('data/scr_clean2.csv')\n",
    "dfROIs = pd.read_csv('data/neuroSynth_connectivity.csv')"
   ]
  },
  {
   "cell_type": "code",
   "execution_count": 7,
   "id": "ae00c8e1-3b0a-4822-9aa5-e25ca711cd7f",
   "metadata": {},
   "outputs": [],
   "source": [
    "df = pd.merge(dfSCR, dfROIs, left_on=['sub','Event.Nr'], right_on=['sub','trial'])\n",
    "df['amg'] = df['amgM']"
   ]
  },
  {
   "cell_type": "code",
   "execution_count": 8,
   "id": "7bebd636-4756-4ab5-9a5f-3455f71d01b6",
   "metadata": {},
   "outputs": [
    {
     "data": {
      "text/html": [
       "<div>\n",
       "<style scoped>\n",
       "    .dataframe tbody tr th:only-of-type {\n",
       "        vertical-align: middle;\n",
       "    }\n",
       "\n",
       "    .dataframe tbody tr th {\n",
       "        vertical-align: top;\n",
       "    }\n",
       "\n",
       "    .dataframe thead th {\n",
       "        text-align: right;\n",
       "    }\n",
       "</style>\n",
       "<table border=\"1\" class=\"dataframe\">\n",
       "  <thead>\n",
       "    <tr style=\"text-align: right;\">\n",
       "      <th></th>\n",
       "      <th>sub</th>\n",
       "      <th>Condition</th>\n",
       "      <th>Event.Nr</th>\n",
       "      <th>CDA.AmpSum</th>\n",
       "      <th>expected_value</th>\n",
       "      <th>pe</th>\n",
       "      <th>scr</th>\n",
       "      <th>amg_hipp</th>\n",
       "      <th>amg_vmpfc</th>\n",
       "      <th>amg_SnM</th>\n",
       "      <th>amgM</th>\n",
       "      <th>trial</th>\n",
       "      <th>condition</th>\n",
       "      <th>amg</th>\n",
       "    </tr>\n",
       "  </thead>\n",
       "  <tbody>\n",
       "    <tr>\n",
       "      <th>0</th>\n",
       "      <td>sub-189</td>\n",
       "      <td>CSplusUS1</td>\n",
       "      <td>1</td>\n",
       "      <td>0.2852</td>\n",
       "      <td>0.801175</td>\n",
       "      <td>0.500000</td>\n",
       "      <td>0.2852</td>\n",
       "      <td>0.922353</td>\n",
       "      <td>0.880922</td>\n",
       "      <td>-0.178543</td>\n",
       "      <td>0.561003</td>\n",
       "      <td>1</td>\n",
       "      <td>CSplusUS1</td>\n",
       "      <td>0.561003</td>\n",
       "    </tr>\n",
       "    <tr>\n",
       "      <th>1</th>\n",
       "      <td>sub-189</td>\n",
       "      <td>CSminus1</td>\n",
       "      <td>2</td>\n",
       "      <td>0.1033</td>\n",
       "      <td>0.796939</td>\n",
       "      <td>-0.500000</td>\n",
       "      <td>0.1033</td>\n",
       "      <td>0.131659</td>\n",
       "      <td>0.645556</td>\n",
       "      <td>0.078074</td>\n",
       "      <td>-0.021780</td>\n",
       "      <td>2</td>\n",
       "      <td>CSminus1</td>\n",
       "      <td>-0.021780</td>\n",
       "    </tr>\n",
       "    <tr>\n",
       "      <th>2</th>\n",
       "      <td>sub-189</td>\n",
       "      <td>CSplus1</td>\n",
       "      <td>3</td>\n",
       "      <td>0.0783</td>\n",
       "      <td>0.799047</td>\n",
       "      <td>-0.501304</td>\n",
       "      <td>0.0783</td>\n",
       "      <td>0.538454</td>\n",
       "      <td>0.690040</td>\n",
       "      <td>-0.027568</td>\n",
       "      <td>-0.055494</td>\n",
       "      <td>3</td>\n",
       "      <td>CSplus1</td>\n",
       "      <td>-0.055494</td>\n",
       "    </tr>\n",
       "    <tr>\n",
       "      <th>3</th>\n",
       "      <td>sub-189</td>\n",
       "      <td>CSplusUS1</td>\n",
       "      <td>4</td>\n",
       "      <td>0.1772</td>\n",
       "      <td>0.801165</td>\n",
       "      <td>0.500006</td>\n",
       "      <td>0.1772</td>\n",
       "      <td>0.751307</td>\n",
       "      <td>0.846971</td>\n",
       "      <td>0.085269</td>\n",
       "      <td>-0.190930</td>\n",
       "      <td>4</td>\n",
       "      <td>CSplusUS1</td>\n",
       "      <td>-0.190930</td>\n",
       "    </tr>\n",
       "    <tr>\n",
       "      <th>4</th>\n",
       "      <td>sub-189</td>\n",
       "      <td>CSminus1</td>\n",
       "      <td>5</td>\n",
       "      <td>0.0000</td>\n",
       "      <td>0.794832</td>\n",
       "      <td>-0.498696</td>\n",
       "      <td>0.0000</td>\n",
       "      <td>0.824036</td>\n",
       "      <td>0.681568</td>\n",
       "      <td>0.477865</td>\n",
       "      <td>0.028911</td>\n",
       "      <td>5</td>\n",
       "      <td>CSminus1</td>\n",
       "      <td>0.028911</td>\n",
       "    </tr>\n",
       "  </tbody>\n",
       "</table>\n",
       "</div>"
      ],
      "text/plain": [
       "       sub  Condition  Event.Nr  CDA.AmpSum  expected_value        pe     scr  \\\n",
       "0  sub-189  CSplusUS1         1      0.2852        0.801175  0.500000  0.2852   \n",
       "1  sub-189   CSminus1         2      0.1033        0.796939 -0.500000  0.1033   \n",
       "2  sub-189    CSplus1         3      0.0783        0.799047 -0.501304  0.0783   \n",
       "3  sub-189  CSplusUS1         4      0.1772        0.801165  0.500006  0.1772   \n",
       "4  sub-189   CSminus1         5      0.0000        0.794832 -0.498696  0.0000   \n",
       "\n",
       "   amg_hipp  amg_vmpfc   amg_SnM      amgM  trial  condition       amg  \n",
       "0  0.922353   0.880922 -0.178543  0.561003      1  CSplusUS1  0.561003  \n",
       "1  0.131659   0.645556  0.078074 -0.021780      2   CSminus1 -0.021780  \n",
       "2  0.538454   0.690040 -0.027568 -0.055494      3    CSplus1 -0.055494  \n",
       "3  0.751307   0.846971  0.085269 -0.190930      4  CSplusUS1 -0.190930  \n",
       "4  0.824036   0.681568  0.477865  0.028911      5   CSminus1  0.028911  "
      ]
     },
     "execution_count": 8,
     "metadata": {},
     "output_type": "execute_result"
    }
   ],
   "source": [
    "df.head()"
   ]
  },
  {
   "cell_type": "code",
   "execution_count": 9,
   "id": "02c594b2-4d54-4cfa-b126-dd1b1a44e8b7",
   "metadata": {},
   "outputs": [
    {
     "data": {
      "text/plain": [
       "65"
      ]
     },
     "execution_count": 9,
     "metadata": {},
     "output_type": "execute_result"
    }
   ],
   "source": [
    "len(df['sub'].unique()) # 65"
   ]
  },
  {
   "cell_type": "code",
   "execution_count": 10,
   "id": "06b07f35-7b4d-47b2-b5c7-90c464231a74",
   "metadata": {},
   "outputs": [
    {
     "data": {
      "text/plain": [
       "<AxesSubplot:xlabel='amg_hipp', ylabel='Count'>"
      ]
     },
     "execution_count": 10,
     "metadata": {},
     "output_type": "execute_result"
    },
    {
     "data": {
      "image/png": "[encoded data removed]",
      "text/plain": [
       "<Figure size 432x288 with 1 Axes>"
      ]
     },
     "metadata": {
      "needs_background": "light"
     },
     "output_type": "display_data"
    }
   ],
   "source": [
    "sns.histplot(df.amg_hipp)"
   ]
  },
  {
   "cell_type": "markdown",
   "id": "d829b199-ac18-40e7-a379-93961b962ecb",
   "metadata": {},
   "source": [
    "# Prediction error"
   ]
  },
  {
   "cell_type": "markdown",
   "id": "2352becc-fd1b-4a2e-9ba9-7430aff48d73",
   "metadata": {},
   "source": [
    "## Amg-Hippocampus"
   ]
  },
  {
   "cell_type": "code",
   "execution_count": 11,
   "id": "0978e797-f329-4533-91e0-4c3c481c6959",
   "metadata": {},
   "outputs": [],
   "source": [
    "# build index for all Bayesian analysis\n",
    "# Bayes model\n",
    "# organize data\n",
    "df['sub'] = df['sub'].astype('category')\n",
    "#df['condition'] = df['condition'].astype('category')\n",
    "\n",
    "n_sub = len(df['sub'].unique())\n",
    "subIDX = df['sub'].cat.codes.values\n",
    "# condition\n",
    "n_cond = len(df['condition'].unique())\n",
    "#condIDX = df['condition'].cat.codes.values\n",
    "trials = df.trial.values - 1\n",
    "amygdala = df.amg.values\n",
    "\n",
    "\n",
    "df['condition'].unique()\n",
    "\n",
    "# generating condition index\n",
    "df['cond'] = df['condition']#\n",
    "df = df.replace(to_replace={'cond': {'CSminus1':0, 'CSplus1':1, 'CSplusUS1':2, 'CSplus2':3, 'CSminus2':4, 'CSminusUS2':5}})\n",
    "\n",
    "condIDX = df.cond.values"
   ]
  },
  {
   "cell_type": "code",
   "execution_count": 11,
   "id": "bf63625c-5be4-4a6d-b284-92a256fec4c2",
   "metadata": {},
   "outputs": [
    {
     "name": "stderr",
     "output_type": "stream",
     "text": [
      "Auto-assigning NUTS sampler...\n",
      "Initializing NUTS using jitter+adapt_diag...\n",
      "Multiprocess sampling (4 chains in 10 jobs)\n",
      "NUTS: [eps, coup_matt, sigma_coup, mu_coup, b_amg, b_trials, a_matt, sigma_a, mu_a, intercept]\n"
     ]
    },
    {
     "data": {
      "text/html": [
       "\n",
       "<style>\n",
       "    /* Turns off some styling */\n",
       "    progress {\n",
       "        /* gets rid of default border in Firefox and Opera. */\n",
       "        border: none;\n",
       "        /* Needs to be in here for Safari polyfill so background images work as expected. */\n",
       "        background-size: auto;\n",
       "    }\n",
       "    .progress-bar-interrupted, .progress-bar-interrupted::-webkit-progress-bar {\n",
       "        background: #F44336;\n",
       "    }\n",
       "</style>\n"
      ],
      "text/plain": [
       "<IPython.core.display.HTML object>"
      ]
     },
     "metadata": {},
     "output_type": "display_data"
    },
    {
     "data": {
      "text/html": [
       "\n",
       "    <div>\n",
       "      <progress value='16000' class='' max='16000' style='width:300px; height:20px; vertical-align: middle;'></progress>\n",
       "      100.00% [16000/16000 07:48<00:00 Sampling 4 chains, 0 divergences]\n",
       "    </div>\n",
       "    "
      ],
      "text/plain": [
       "<IPython.core.display.HTML object>"
      ]
     },
     "metadata": {},
     "output_type": "display_data"
    },
    {
     "name": "stderr",
     "output_type": "stream",
     "text": [
      "Sampling 4 chains for 2_000 tune and 2_000 draw iterations (8_000 + 8_000 draws total) took 469 seconds.\n"
     ]
    }
   ],
   "source": [
    "tracePE = m.peModel(n_sub, n_cond, subIDX, condIDX, trials, df, 'amg_hipp')"
   ]
  },
  {
   "cell_type": "code",
   "execution_count": 12,
   "id": "71edca12-072a-4363-a8d0-ceaeee537993",
   "metadata": {},
   "outputs": [
    {
     "data": {
      "text/html": [
       "<div>\n",
       "<style scoped>\n",
       "    .dataframe tbody tr th:only-of-type {\n",
       "        vertical-align: middle;\n",
       "    }\n",
       "\n",
       "    .dataframe tbody tr th {\n",
       "        vertical-align: top;\n",
       "    }\n",
       "\n",
       "    .dataframe thead th {\n",
       "        text-align: right;\n",
       "    }\n",
       "</style>\n",
       "<table border=\"1\" class=\"dataframe\">\n",
       "  <thead>\n",
       "    <tr style=\"text-align: right;\">\n",
       "      <th></th>\n",
       "      <th>mean</th>\n",
       "      <th>sd</th>\n",
       "      <th>hdi_2.5%</th>\n",
       "      <th>hdi_97.5%</th>\n",
       "      <th>mcse_mean</th>\n",
       "      <th>mcse_sd</th>\n",
       "      <th>ess_bulk</th>\n",
       "      <th>ess_tail</th>\n",
       "      <th>r_hat</th>\n",
       "    </tr>\n",
       "  </thead>\n",
       "  <tbody>\n",
       "    <tr>\n",
       "      <th>b_amg</th>\n",
       "      <td>0.049</td>\n",
       "      <td>0.023</td>\n",
       "      <td>0.005</td>\n",
       "      <td>0.093</td>\n",
       "      <td>0.0</td>\n",
       "      <td>0.0</td>\n",
       "      <td>13886.0</td>\n",
       "      <td>5892.0</td>\n",
       "      <td>1.0</td>\n",
       "    </tr>\n",
       "    <tr>\n",
       "      <th>b_coup[0]</th>\n",
       "      <td>0.111</td>\n",
       "      <td>0.030</td>\n",
       "      <td>0.051</td>\n",
       "      <td>0.171</td>\n",
       "      <td>0.0</td>\n",
       "      <td>0.0</td>\n",
       "      <td>8850.0</td>\n",
       "      <td>6256.0</td>\n",
       "      <td>1.0</td>\n",
       "    </tr>\n",
       "    <tr>\n",
       "      <th>b_coup[1]</th>\n",
       "      <td>0.108</td>\n",
       "      <td>0.030</td>\n",
       "      <td>0.049</td>\n",
       "      <td>0.167</td>\n",
       "      <td>0.0</td>\n",
       "      <td>0.0</td>\n",
       "      <td>9224.0</td>\n",
       "      <td>6334.0</td>\n",
       "      <td>1.0</td>\n",
       "    </tr>\n",
       "    <tr>\n",
       "      <th>b_coup[2]</th>\n",
       "      <td>0.113</td>\n",
       "      <td>0.029</td>\n",
       "      <td>0.056</td>\n",
       "      <td>0.173</td>\n",
       "      <td>0.0</td>\n",
       "      <td>0.0</td>\n",
       "      <td>9023.0</td>\n",
       "      <td>5847.0</td>\n",
       "      <td>1.0</td>\n",
       "    </tr>\n",
       "    <tr>\n",
       "      <th>b_coup[3]</th>\n",
       "      <td>0.108</td>\n",
       "      <td>0.029</td>\n",
       "      <td>0.047</td>\n",
       "      <td>0.165</td>\n",
       "      <td>0.0</td>\n",
       "      <td>0.0</td>\n",
       "      <td>9440.0</td>\n",
       "      <td>6409.0</td>\n",
       "      <td>1.0</td>\n",
       "    </tr>\n",
       "    <tr>\n",
       "      <th>...</th>\n",
       "      <td>...</td>\n",
       "      <td>...</td>\n",
       "      <td>...</td>\n",
       "      <td>...</td>\n",
       "      <td>...</td>\n",
       "      <td>...</td>\n",
       "      <td>...</td>\n",
       "      <td>...</td>\n",
       "      <td>...</td>\n",
       "    </tr>\n",
       "    <tr>\n",
       "      <th>b_coup[61]</th>\n",
       "      <td>0.116</td>\n",
       "      <td>0.030</td>\n",
       "      <td>0.057</td>\n",
       "      <td>0.173</td>\n",
       "      <td>0.0</td>\n",
       "      <td>0.0</td>\n",
       "      <td>8852.0</td>\n",
       "      <td>5836.0</td>\n",
       "      <td>1.0</td>\n",
       "    </tr>\n",
       "    <tr>\n",
       "      <th>b_coup[62]</th>\n",
       "      <td>0.118</td>\n",
       "      <td>0.031</td>\n",
       "      <td>0.054</td>\n",
       "      <td>0.179</td>\n",
       "      <td>0.0</td>\n",
       "      <td>0.0</td>\n",
       "      <td>8123.0</td>\n",
       "      <td>5868.0</td>\n",
       "      <td>1.0</td>\n",
       "    </tr>\n",
       "    <tr>\n",
       "      <th>b_coup[63]</th>\n",
       "      <td>0.112</td>\n",
       "      <td>0.029</td>\n",
       "      <td>0.055</td>\n",
       "      <td>0.172</td>\n",
       "      <td>0.0</td>\n",
       "      <td>0.0</td>\n",
       "      <td>9370.0</td>\n",
       "      <td>6159.0</td>\n",
       "      <td>1.0</td>\n",
       "    </tr>\n",
       "    <tr>\n",
       "      <th>b_coup[64]</th>\n",
       "      <td>0.112</td>\n",
       "      <td>0.030</td>\n",
       "      <td>0.053</td>\n",
       "      <td>0.171</td>\n",
       "      <td>0.0</td>\n",
       "      <td>0.0</td>\n",
       "      <td>9922.0</td>\n",
       "      <td>5985.0</td>\n",
       "      <td>1.0</td>\n",
       "    </tr>\n",
       "    <tr>\n",
       "      <th>mu_coup</th>\n",
       "      <td>0.110</td>\n",
       "      <td>0.020</td>\n",
       "      <td>0.072</td>\n",
       "      <td>0.150</td>\n",
       "      <td>0.0</td>\n",
       "      <td>0.0</td>\n",
       "      <td>8884.0</td>\n",
       "      <td>5841.0</td>\n",
       "      <td>1.0</td>\n",
       "    </tr>\n",
       "  </tbody>\n",
       "</table>\n",
       "<p>67 rows × 9 columns</p>\n",
       "</div>"
      ],
      "text/plain": [
       "             mean     sd  hdi_2.5%  hdi_97.5%  mcse_mean  mcse_sd  ess_bulk  \\\n",
       "b_amg       0.049  0.023     0.005      0.093        0.0      0.0   13886.0   \n",
       "b_coup[0]   0.111  0.030     0.051      0.171        0.0      0.0    8850.0   \n",
       "b_coup[1]   0.108  0.030     0.049      0.167        0.0      0.0    9224.0   \n",
       "b_coup[2]   0.113  0.029     0.056      0.173        0.0      0.0    9023.0   \n",
       "b_coup[3]   0.108  0.029     0.047      0.165        0.0      0.0    9440.0   \n",
       "...           ...    ...       ...        ...        ...      ...       ...   \n",
       "b_coup[61]  0.116  0.030     0.057      0.173        0.0      0.0    8852.0   \n",
       "b_coup[62]  0.118  0.031     0.054      0.179        0.0      0.0    8123.0   \n",
       "b_coup[63]  0.112  0.029     0.055      0.172        0.0      0.0    9370.0   \n",
       "b_coup[64]  0.112  0.030     0.053      0.171        0.0      0.0    9922.0   \n",
       "mu_coup     0.110  0.020     0.072      0.150        0.0      0.0    8884.0   \n",
       "\n",
       "            ess_tail  r_hat  \n",
       "b_amg         5892.0    1.0  \n",
       "b_coup[0]     6256.0    1.0  \n",
       "b_coup[1]     6334.0    1.0  \n",
       "b_coup[2]     5847.0    1.0  \n",
       "b_coup[3]     6409.0    1.0  \n",
       "...              ...    ...  \n",
       "b_coup[61]    5836.0    1.0  \n",
       "b_coup[62]    5868.0    1.0  \n",
       "b_coup[63]    6159.0    1.0  \n",
       "b_coup[64]    5985.0    1.0  \n",
       "mu_coup       5841.0    1.0  \n",
       "\n",
       "[67 rows x 9 columns]"
      ]
     },
     "execution_count": 12,
     "metadata": {},
     "output_type": "execute_result"
    }
   ],
   "source": [
    "az.summary(tracePE, var_names=['b_amg','b_coup','mu_coup'], hdi_prob=.95)"
   ]
  },
  {
   "cell_type": "code",
   "execution_count": 13,
   "id": "261664ae-dd03-46b2-9e51-60bb7a9562e1",
   "metadata": {},
   "outputs": [
    {
     "data": {
      "image/png": "[encoded data removed]",
      "text/plain": [
       "<Figure size 432x288 with 1 Axes>"
      ]
     },
     "metadata": {
      "needs_background": "light"
     },
     "output_type": "display_data"
    },
    {
     "data": {
      "image/png": "[encoded data removed]",
      "text/plain": [
       "<Figure size 432x288 with 1 Axes>"
      ]
     },
     "metadata": {
      "needs_background": "light"
     },
     "output_type": "display_data"
    }
   ],
   "source": [
    "a = az.plot_posterior(tracePE, var_names=['b_amg'], kind='hist', ref_val=0, hdi_prob=.95)\n",
    "a.figure.savefig('amygdala_posterior.png')\n",
    "\n",
    "b = az.plot_posterior(tracePE, var_names=['mu_coup'], kind='hist', ref_val=0, hdi_prob=.95)\n",
    "b.figure.savefig('amg_hippFC_posterior.png')"
   ]
  },
  {
   "cell_type": "code",
   "execution_count": 14,
   "id": "ae0d1a91-841f-499d-b91c-25f01c84cb2e",
   "metadata": {},
   "outputs": [],
   "source": [
    "a.figure.savefig('amygdala_posterior.png')"
   ]
  },
  {
   "cell_type": "markdown",
   "id": "13e4bc5b-37b6-4dc2-8898-3e2ba8209fb5",
   "metadata": {},
   "source": [
    "## Amg-vmPFC"
   ]
  },
  {
   "cell_type": "code",
   "execution_count": 17,
   "id": "af86f1e2-92d1-4dae-9044-68e4ed53b2e4",
   "metadata": {},
   "outputs": [
    {
     "name": "stderr",
     "output_type": "stream",
     "text": [
      "Auto-assigning NUTS sampler...\n",
      "Initializing NUTS using jitter+adapt_diag...\n",
      "Multiprocess sampling (4 chains in 10 jobs)\n",
      "NUTS: [eps, coup_matt, sigma_coup, mu_coup, b_amg, b_trials, a_matt, sigma_a, mu_a, intercept]\n"
     ]
    },
    {
     "data": {
      "text/html": [
       "\n",
       "<style>\n",
       "    /* Turns off some styling */\n",
       "    progress {\n",
       "        /* gets rid of default border in Firefox and Opera. */\n",
       "        border: none;\n",
       "        /* Needs to be in here for Safari polyfill so background images work as expected. */\n",
       "        background-size: auto;\n",
       "    }\n",
       "    .progress-bar-interrupted, .progress-bar-interrupted::-webkit-progress-bar {\n",
       "        background: #F44336;\n",
       "    }\n",
       "</style>\n"
      ],
      "text/plain": [
       "<IPython.core.display.HTML object>"
      ]
     },
     "metadata": {},
     "output_type": "display_data"
    },
    {
     "data": {
      "text/html": [
       "\n",
       "    <div>\n",
       "      <progress value='16000' class='' max='16000' style='width:300px; height:20px; vertical-align: middle;'></progress>\n",
       "      100.00% [16000/16000 07:56<00:00 Sampling 4 chains, 0 divergences]\n",
       "    </div>\n",
       "    "
      ],
      "text/plain": [
       "<IPython.core.display.HTML object>"
      ]
     },
     "metadata": {},
     "output_type": "display_data"
    },
    {
     "name": "stderr",
     "output_type": "stream",
     "text": [
      "Sampling 4 chains for 2_000 tune and 2_000 draw iterations (8_000 + 8_000 draws total) took 477 seconds.\n",
      "The number of effective samples is smaller than 25% for some parameters.\n"
     ]
    }
   ],
   "source": [
    "tracePE_vmpfc = m.peModel(n_sub, n_cond, subIDX, condIDX, trials, df, 'amg_vmpfc')"
   ]
  },
  {
   "cell_type": "code",
   "execution_count": 18,
   "id": "908509a0-d8e9-4a65-87cd-973c11fcc90d",
   "metadata": {},
   "outputs": [
    {
     "data": {
      "text/html": [
       "<div>\n",
       "<style scoped>\n",
       "    .dataframe tbody tr th:only-of-type {\n",
       "        vertical-align: middle;\n",
       "    }\n",
       "\n",
       "    .dataframe tbody tr th {\n",
       "        vertical-align: top;\n",
       "    }\n",
       "\n",
       "    .dataframe thead th {\n",
       "        text-align: right;\n",
       "    }\n",
       "</style>\n",
       "<table border=\"1\" class=\"dataframe\">\n",
       "  <thead>\n",
       "    <tr style=\"text-align: right;\">\n",
       "      <th></th>\n",
       "      <th>mean</th>\n",
       "      <th>sd</th>\n",
       "      <th>hdi_2.5%</th>\n",
       "      <th>hdi_97.5%</th>\n",
       "      <th>mcse_mean</th>\n",
       "      <th>mcse_sd</th>\n",
       "      <th>ess_bulk</th>\n",
       "      <th>ess_tail</th>\n",
       "      <th>r_hat</th>\n",
       "    </tr>\n",
       "  </thead>\n",
       "  <tbody>\n",
       "    <tr>\n",
       "      <th>b_amg</th>\n",
       "      <td>0.046</td>\n",
       "      <td>0.023</td>\n",
       "      <td>-0.000</td>\n",
       "      <td>0.088</td>\n",
       "      <td>0.000</td>\n",
       "      <td>0.000</td>\n",
       "      <td>7701.0</td>\n",
       "      <td>5881.0</td>\n",
       "      <td>1.0</td>\n",
       "    </tr>\n",
       "    <tr>\n",
       "      <th>b_coup[0]</th>\n",
       "      <td>-0.024</td>\n",
       "      <td>0.044</td>\n",
       "      <td>-0.108</td>\n",
       "      <td>0.068</td>\n",
       "      <td>0.000</td>\n",
       "      <td>0.000</td>\n",
       "      <td>8279.0</td>\n",
       "      <td>5893.0</td>\n",
       "      <td>1.0</td>\n",
       "    </tr>\n",
       "    <tr>\n",
       "      <th>b_coup[1]</th>\n",
       "      <td>-0.065</td>\n",
       "      <td>0.047</td>\n",
       "      <td>-0.163</td>\n",
       "      <td>0.017</td>\n",
       "      <td>0.001</td>\n",
       "      <td>0.000</td>\n",
       "      <td>5611.0</td>\n",
       "      <td>6342.0</td>\n",
       "      <td>1.0</td>\n",
       "    </tr>\n",
       "    <tr>\n",
       "      <th>b_coup[2]</th>\n",
       "      <td>-0.027</td>\n",
       "      <td>0.041</td>\n",
       "      <td>-0.110</td>\n",
       "      <td>0.057</td>\n",
       "      <td>0.000</td>\n",
       "      <td>0.000</td>\n",
       "      <td>10543.0</td>\n",
       "      <td>5724.0</td>\n",
       "      <td>1.0</td>\n",
       "    </tr>\n",
       "    <tr>\n",
       "      <th>b_coup[3]</th>\n",
       "      <td>-0.034</td>\n",
       "      <td>0.041</td>\n",
       "      <td>-0.118</td>\n",
       "      <td>0.049</td>\n",
       "      <td>0.000</td>\n",
       "      <td>0.000</td>\n",
       "      <td>11015.0</td>\n",
       "      <td>6091.0</td>\n",
       "      <td>1.0</td>\n",
       "    </tr>\n",
       "    <tr>\n",
       "      <th>...</th>\n",
       "      <td>...</td>\n",
       "      <td>...</td>\n",
       "      <td>...</td>\n",
       "      <td>...</td>\n",
       "      <td>...</td>\n",
       "      <td>...</td>\n",
       "      <td>...</td>\n",
       "      <td>...</td>\n",
       "      <td>...</td>\n",
       "    </tr>\n",
       "    <tr>\n",
       "      <th>b_coup[61]</th>\n",
       "      <td>-0.012</td>\n",
       "      <td>0.046</td>\n",
       "      <td>-0.095</td>\n",
       "      <td>0.082</td>\n",
       "      <td>0.001</td>\n",
       "      <td>0.000</td>\n",
       "      <td>5687.0</td>\n",
       "      <td>6135.0</td>\n",
       "      <td>1.0</td>\n",
       "    </tr>\n",
       "    <tr>\n",
       "      <th>b_coup[62]</th>\n",
       "      <td>-0.025</td>\n",
       "      <td>0.045</td>\n",
       "      <td>-0.118</td>\n",
       "      <td>0.065</td>\n",
       "      <td>0.000</td>\n",
       "      <td>0.000</td>\n",
       "      <td>8488.0</td>\n",
       "      <td>6340.0</td>\n",
       "      <td>1.0</td>\n",
       "    </tr>\n",
       "    <tr>\n",
       "      <th>b_coup[63]</th>\n",
       "      <td>-0.037</td>\n",
       "      <td>0.041</td>\n",
       "      <td>-0.120</td>\n",
       "      <td>0.048</td>\n",
       "      <td>0.000</td>\n",
       "      <td>0.000</td>\n",
       "      <td>10767.0</td>\n",
       "      <td>6214.0</td>\n",
       "      <td>1.0</td>\n",
       "    </tr>\n",
       "    <tr>\n",
       "      <th>b_coup[64]</th>\n",
       "      <td>-0.000</td>\n",
       "      <td>0.049</td>\n",
       "      <td>-0.084</td>\n",
       "      <td>0.103</td>\n",
       "      <td>0.001</td>\n",
       "      <td>0.001</td>\n",
       "      <td>4272.0</td>\n",
       "      <td>6267.0</td>\n",
       "      <td>1.0</td>\n",
       "    </tr>\n",
       "    <tr>\n",
       "      <th>mu_coup</th>\n",
       "      <td>-0.038</td>\n",
       "      <td>0.017</td>\n",
       "      <td>-0.070</td>\n",
       "      <td>-0.004</td>\n",
       "      <td>0.000</td>\n",
       "      <td>0.000</td>\n",
       "      <td>9645.0</td>\n",
       "      <td>6011.0</td>\n",
       "      <td>1.0</td>\n",
       "    </tr>\n",
       "  </tbody>\n",
       "</table>\n",
       "<p>67 rows × 9 columns</p>\n",
       "</div>"
      ],
      "text/plain": [
       "             mean     sd  hdi_2.5%  hdi_97.5%  mcse_mean  mcse_sd  ess_bulk  \\\n",
       "b_amg       0.046  0.023    -0.000      0.088      0.000    0.000    7701.0   \n",
       "b_coup[0]  -0.024  0.044    -0.108      0.068      0.000    0.000    8279.0   \n",
       "b_coup[1]  -0.065  0.047    -0.163      0.017      0.001    0.000    5611.0   \n",
       "b_coup[2]  -0.027  0.041    -0.110      0.057      0.000    0.000   10543.0   \n",
       "b_coup[3]  -0.034  0.041    -0.118      0.049      0.000    0.000   11015.0   \n",
       "...           ...    ...       ...        ...        ...      ...       ...   \n",
       "b_coup[61] -0.012  0.046    -0.095      0.082      0.001    0.000    5687.0   \n",
       "b_coup[62] -0.025  0.045    -0.118      0.065      0.000    0.000    8488.0   \n",
       "b_coup[63] -0.037  0.041    -0.120      0.048      0.000    0.000   10767.0   \n",
       "b_coup[64] -0.000  0.049    -0.084      0.103      0.001    0.001    4272.0   \n",
       "mu_coup    -0.038  0.017    -0.070     -0.004      0.000    0.000    9645.0   \n",
       "\n",
       "            ess_tail  r_hat  \n",
       "b_amg         5881.0    1.0  \n",
       "b_coup[0]     5893.0    1.0  \n",
       "b_coup[1]     6342.0    1.0  \n",
       "b_coup[2]     5724.0    1.0  \n",
       "b_coup[3]     6091.0    1.0  \n",
       "...              ...    ...  \n",
       "b_coup[61]    6135.0    1.0  \n",
       "b_coup[62]    6340.0    1.0  \n",
       "b_coup[63]    6214.0    1.0  \n",
       "b_coup[64]    6267.0    1.0  \n",
       "mu_coup       6011.0    1.0  \n",
       "\n",
       "[67 rows x 9 columns]"
      ]
     },
     "execution_count": 18,
     "metadata": {},
     "output_type": "execute_result"
    }
   ],
   "source": [
    "az.summary(tracePE_vmpfc, var_names=['b_amg','b_coup','mu_coup'], hdi_prob=.95)"
   ]
  },
  {
   "cell_type": "code",
   "execution_count": 19,
   "id": "a49ce431-c162-4f50-893e-d858f54e38ce",
   "metadata": {},
   "outputs": [
    {
     "data": {
      "text/plain": [
       "<AxesSubplot:title={'center':'mu_coup'}>"
      ]
     },
     "execution_count": 19,
     "metadata": {},
     "output_type": "execute_result"
    },
    {
     "data": {
      "image/png": "[encoded data removed]",
      "text/plain": [
       "<Figure size 432x288 with 1 Axes>"
      ]
     },
     "metadata": {
      "needs_background": "light"
     },
     "output_type": "display_data"
    }
   ],
   "source": [
    "az.plot_posterior(tracePE_vmpfc, var_names=['mu_coup'], kind='hist', ref_val=0,\n",
    "                 hdi_prob=.95).figure.savefig('amg_vmpfc_posterior.png')"
   ]
  },
  {
   "cell_type": "markdown",
   "id": "ab6e5095-ddc9-4b7c-a6f8-a434d77831d9",
   "metadata": {},
   "source": [
    "# Amygdala Sensory Motor"
   ]
  },
  {
   "cell_type": "code",
   "execution_count": 11,
   "id": "277047b4-d41b-4d81-9bf6-c0659269de25",
   "metadata": {},
   "outputs": [
    {
     "name": "stderr",
     "output_type": "stream",
     "text": [
      "Auto-assigning NUTS sampler...\n",
      "Initializing NUTS using jitter+adapt_diag...\n",
      "Multiprocess sampling (4 chains in 10 jobs)\n",
      "NUTS: [eps, coup_matt, sigma_coup, mu_coup, b_amg, b_trials, a_matt, sigma_a, mu_a, intercept]\n"
     ]
    },
    {
     "data": {
      "text/html": [
       "\n",
       "<style>\n",
       "    /* Turns off some styling */\n",
       "    progress {\n",
       "        /* gets rid of default border in Firefox and Opera. */\n",
       "        border: none;\n",
       "        /* Needs to be in here for Safari polyfill so background images work as expected. */\n",
       "        background-size: auto;\n",
       "    }\n",
       "    .progress-bar-interrupted, .progress-bar-interrupted::-webkit-progress-bar {\n",
       "        background: #F44336;\n",
       "    }\n",
       "</style>\n"
      ],
      "text/plain": [
       "<IPython.core.display.HTML object>"
      ]
     },
     "metadata": {},
     "output_type": "display_data"
    },
    {
     "data": {
      "text/html": [
       "\n",
       "    <div>\n",
       "      <progress value='16000' class='' max='16000' style='width:300px; height:20px; vertical-align: middle;'></progress>\n",
       "      100.00% [16000/16000 08:11<00:00 Sampling 4 chains, 0 divergences]\n",
       "    </div>\n",
       "    "
      ],
      "text/plain": [
       "<IPython.core.display.HTML object>"
      ]
     },
     "metadata": {},
     "output_type": "display_data"
    },
    {
     "name": "stderr",
     "output_type": "stream",
     "text": [
      "Sampling 4 chains for 2_000 tune and 2_000 draw iterations (8_000 + 8_000 draws total) took 493 seconds.\n",
      "The number of effective samples is smaller than 25% for some parameters.\n"
     ]
    }
   ],
   "source": [
    "tracePE_snm = m.peModel(n_sub, n_cond, subIDX, condIDX, trials, df, 'amg_SnM')"
   ]
  },
  {
   "cell_type": "code",
   "execution_count": 12,
   "id": "61077139-8f4c-414f-a56f-83ab42c2e856",
   "metadata": {},
   "outputs": [
    {
     "data": {
      "text/html": [
       "<div>\n",
       "<style scoped>\n",
       "    .dataframe tbody tr th:only-of-type {\n",
       "        vertical-align: middle;\n",
       "    }\n",
       "\n",
       "    .dataframe tbody tr th {\n",
       "        vertical-align: top;\n",
       "    }\n",
       "\n",
       "    .dataframe thead th {\n",
       "        text-align: right;\n",
       "    }\n",
       "</style>\n",
       "<table border=\"1\" class=\"dataframe\">\n",
       "  <thead>\n",
       "    <tr style=\"text-align: right;\">\n",
       "      <th></th>\n",
       "      <th>mean</th>\n",
       "      <th>sd</th>\n",
       "      <th>hdi_2.5%</th>\n",
       "      <th>hdi_97.5%</th>\n",
       "      <th>mcse_mean</th>\n",
       "      <th>mcse_sd</th>\n",
       "      <th>ess_bulk</th>\n",
       "      <th>ess_tail</th>\n",
       "      <th>r_hat</th>\n",
       "    </tr>\n",
       "  </thead>\n",
       "  <tbody>\n",
       "    <tr>\n",
       "      <th>b_amg</th>\n",
       "      <td>0.048</td>\n",
       "      <td>0.023</td>\n",
       "      <td>0.001</td>\n",
       "      <td>0.092</td>\n",
       "      <td>0.000</td>\n",
       "      <td>0.000</td>\n",
       "      <td>11676.0</td>\n",
       "      <td>6638.0</td>\n",
       "      <td>1.0</td>\n",
       "    </tr>\n",
       "    <tr>\n",
       "      <th>b_coup[0]</th>\n",
       "      <td>-0.006</td>\n",
       "      <td>0.047</td>\n",
       "      <td>-0.103</td>\n",
       "      <td>0.091</td>\n",
       "      <td>0.001</td>\n",
       "      <td>0.001</td>\n",
       "      <td>8060.0</td>\n",
       "      <td>5706.0</td>\n",
       "      <td>1.0</td>\n",
       "    </tr>\n",
       "    <tr>\n",
       "      <th>b_coup[1]</th>\n",
       "      <td>0.001</td>\n",
       "      <td>0.045</td>\n",
       "      <td>-0.091</td>\n",
       "      <td>0.093</td>\n",
       "      <td>0.000</td>\n",
       "      <td>0.001</td>\n",
       "      <td>10614.0</td>\n",
       "      <td>6286.0</td>\n",
       "      <td>1.0</td>\n",
       "    </tr>\n",
       "    <tr>\n",
       "      <th>b_coup[2]</th>\n",
       "      <td>0.030</td>\n",
       "      <td>0.045</td>\n",
       "      <td>-0.052</td>\n",
       "      <td>0.124</td>\n",
       "      <td>0.001</td>\n",
       "      <td>0.000</td>\n",
       "      <td>6992.0</td>\n",
       "      <td>6062.0</td>\n",
       "      <td>1.0</td>\n",
       "    </tr>\n",
       "    <tr>\n",
       "      <th>b_coup[3]</th>\n",
       "      <td>0.011</td>\n",
       "      <td>0.048</td>\n",
       "      <td>-0.084</td>\n",
       "      <td>0.115</td>\n",
       "      <td>0.000</td>\n",
       "      <td>0.001</td>\n",
       "      <td>10922.0</td>\n",
       "      <td>6210.0</td>\n",
       "      <td>1.0</td>\n",
       "    </tr>\n",
       "    <tr>\n",
       "      <th>...</th>\n",
       "      <td>...</td>\n",
       "      <td>...</td>\n",
       "      <td>...</td>\n",
       "      <td>...</td>\n",
       "      <td>...</td>\n",
       "      <td>...</td>\n",
       "      <td>...</td>\n",
       "      <td>...</td>\n",
       "      <td>...</td>\n",
       "    </tr>\n",
       "    <tr>\n",
       "      <th>b_coup[61]</th>\n",
       "      <td>0.047</td>\n",
       "      <td>0.053</td>\n",
       "      <td>-0.042</td>\n",
       "      <td>0.162</td>\n",
       "      <td>0.001</td>\n",
       "      <td>0.001</td>\n",
       "      <td>4271.0</td>\n",
       "      <td>5947.0</td>\n",
       "      <td>1.0</td>\n",
       "    </tr>\n",
       "    <tr>\n",
       "      <th>b_coup[62]</th>\n",
       "      <td>-0.012</td>\n",
       "      <td>0.048</td>\n",
       "      <td>-0.120</td>\n",
       "      <td>0.072</td>\n",
       "      <td>0.001</td>\n",
       "      <td>0.001</td>\n",
       "      <td>7410.0</td>\n",
       "      <td>5790.0</td>\n",
       "      <td>1.0</td>\n",
       "    </tr>\n",
       "    <tr>\n",
       "      <th>b_coup[63]</th>\n",
       "      <td>-0.026</td>\n",
       "      <td>0.051</td>\n",
       "      <td>-0.136</td>\n",
       "      <td>0.065</td>\n",
       "      <td>0.001</td>\n",
       "      <td>0.001</td>\n",
       "      <td>5456.0</td>\n",
       "      <td>6313.0</td>\n",
       "      <td>1.0</td>\n",
       "    </tr>\n",
       "    <tr>\n",
       "      <th>b_coup[64]</th>\n",
       "      <td>0.031</td>\n",
       "      <td>0.047</td>\n",
       "      <td>-0.053</td>\n",
       "      <td>0.136</td>\n",
       "      <td>0.001</td>\n",
       "      <td>0.000</td>\n",
       "      <td>6703.0</td>\n",
       "      <td>5250.0</td>\n",
       "      <td>1.0</td>\n",
       "    </tr>\n",
       "    <tr>\n",
       "      <th>mu_coup</th>\n",
       "      <td>0.006</td>\n",
       "      <td>0.016</td>\n",
       "      <td>-0.027</td>\n",
       "      <td>0.036</td>\n",
       "      <td>0.000</td>\n",
       "      <td>0.000</td>\n",
       "      <td>9561.0</td>\n",
       "      <td>6169.0</td>\n",
       "      <td>1.0</td>\n",
       "    </tr>\n",
       "  </tbody>\n",
       "</table>\n",
       "<p>67 rows × 9 columns</p>\n",
       "</div>"
      ],
      "text/plain": [
       "             mean     sd  hdi_2.5%  hdi_97.5%  mcse_mean  mcse_sd  ess_bulk  \\\n",
       "b_amg       0.048  0.023     0.001      0.092      0.000    0.000   11676.0   \n",
       "b_coup[0]  -0.006  0.047    -0.103      0.091      0.001    0.001    8060.0   \n",
       "b_coup[1]   0.001  0.045    -0.091      0.093      0.000    0.001   10614.0   \n",
       "b_coup[2]   0.030  0.045    -0.052      0.124      0.001    0.000    6992.0   \n",
       "b_coup[3]   0.011  0.048    -0.084      0.115      0.000    0.001   10922.0   \n",
       "...           ...    ...       ...        ...        ...      ...       ...   \n",
       "b_coup[61]  0.047  0.053    -0.042      0.162      0.001    0.001    4271.0   \n",
       "b_coup[62] -0.012  0.048    -0.120      0.072      0.001    0.001    7410.0   \n",
       "b_coup[63] -0.026  0.051    -0.136      0.065      0.001    0.001    5456.0   \n",
       "b_coup[64]  0.031  0.047    -0.053      0.136      0.001    0.000    6703.0   \n",
       "mu_coup     0.006  0.016    -0.027      0.036      0.000    0.000    9561.0   \n",
       "\n",
       "            ess_tail  r_hat  \n",
       "b_amg         6638.0    1.0  \n",
       "b_coup[0]     5706.0    1.0  \n",
       "b_coup[1]     6286.0    1.0  \n",
       "b_coup[2]     6062.0    1.0  \n",
       "b_coup[3]     6210.0    1.0  \n",
       "...              ...    ...  \n",
       "b_coup[61]    5947.0    1.0  \n",
       "b_coup[62]    5790.0    1.0  \n",
       "b_coup[63]    6313.0    1.0  \n",
       "b_coup[64]    5250.0    1.0  \n",
       "mu_coup       6169.0    1.0  \n",
       "\n",
       "[67 rows x 9 columns]"
      ]
     },
     "execution_count": 12,
     "metadata": {},
     "output_type": "execute_result"
    }
   ],
   "source": [
    "az.summary(tracePE_snm, var_names=['b_amg','b_coup','mu_coup'], hdi_prob=.95)"
   ]
  },
  {
   "cell_type": "code",
   "execution_count": 13,
   "id": "762e16b9-d143-466b-aa3c-a5c575599e3f",
   "metadata": {},
   "outputs": [
    {
     "data": {
      "image/png": "[encoded data removed]",
      "text/plain": [
       "<Figure size 432x288 with 1 Axes>"
      ]
     },
     "metadata": {
      "needs_background": "light"
     },
     "output_type": "display_data"
    }
   ],
   "source": [
    "az.plot_posterior(tracePE_snm, var_names=['mu_coup'], kind='hist', ref_val=0,\n",
    "                 hdi_prob=.95).figure.savefig('amg_sensoryMotor_posterior.png')"
   ]
  },
  {
   "cell_type": "markdown",
   "id": "7a632b70-dab6-4acc-a554-1fed037a2a40",
   "metadata": {},
   "source": [
    "# Condition of trial\n",
    "### Amygdala - Hippocampus"
   ]
  },
  {
   "cell_type": "code",
   "execution_count": 22,
   "id": "d126a9ba-b915-465b-bd12-fbef166047dd",
   "metadata": {},
   "outputs": [
    {
     "name": "stderr",
     "output_type": "stream",
     "text": [
      "Auto-assigning NUTS sampler...\n",
      "Initializing NUTS using jitter+adapt_diag...\n",
      "Multiprocess sampling (4 chains in 4 jobs)\n",
      "NUTS: [eps, b_amg, b_trials, b_matt, sigma_b, mu_b, a_matt, sigma_a, mu_a]\n"
     ]
    },
    {
     "data": {
      "text/html": [
       "\n",
       "<style>\n",
       "    /* Turns off some styling */\n",
       "    progress {\n",
       "        /* gets rid of default border in Firefox and Opera. */\n",
       "        border: none;\n",
       "        /* Needs to be in here for Safari polyfill so background images work as expected. */\n",
       "        background-size: auto;\n",
       "    }\n",
       "    .progress-bar-interrupted, .progress-bar-interrupted::-webkit-progress-bar {\n",
       "        background: #F44336;\n",
       "    }\n",
       "</style>\n"
      ],
      "text/plain": [
       "<IPython.core.display.HTML object>"
      ]
     },
     "metadata": {},
     "output_type": "display_data"
    },
    {
     "data": {
      "text/html": [
       "\n",
       "    <div>\n",
       "      <progress value='16000' class='' max='16000' style='width:300px; height:20px; vertical-align: middle;'></progress>\n",
       "      100.00% [16000/16000 12:02<00:00 Sampling 4 chains, 0 divergences]\n",
       "    </div>\n",
       "    "
      ],
      "text/plain": [
       "<IPython.core.display.HTML object>"
      ]
     },
     "metadata": {},
     "output_type": "display_data"
    },
    {
     "name": "stderr",
     "output_type": "stream",
     "text": [
      "Sampling 4 chains for 2_000 tune and 2_000 draw iterations (8_000 + 8_000 draws total) took 724 seconds.\n",
      "The number of effective samples is smaller than 25% for some parameters.\n"
     ]
    }
   ],
   "source": [
    "cond_trace = m.conditionModel(n_sub, n_cond, subIDX, condIDX, trials, df, 'amg_hipp')"
   ]
  },
  {
   "cell_type": "code",
   "execution_count": 23,
   "id": "502e60a9-6c7e-4160-bb3c-f84e6fa76f86",
   "metadata": {},
   "outputs": [
    {
     "data": {
      "text/html": [
       "<div>\n",
       "<style scoped>\n",
       "    .dataframe tbody tr th:only-of-type {\n",
       "        vertical-align: middle;\n",
       "    }\n",
       "\n",
       "    .dataframe tbody tr th {\n",
       "        vertical-align: top;\n",
       "    }\n",
       "\n",
       "    .dataframe thead th {\n",
       "        text-align: right;\n",
       "    }\n",
       "</style>\n",
       "<table border=\"1\" class=\"dataframe\">\n",
       "  <thead>\n",
       "    <tr style=\"text-align: right;\">\n",
       "      <th></th>\n",
       "      <th>mean</th>\n",
       "      <th>sd</th>\n",
       "      <th>hdi_3%</th>\n",
       "      <th>hdi_97%</th>\n",
       "      <th>mcse_mean</th>\n",
       "      <th>mcse_sd</th>\n",
       "      <th>ess_bulk</th>\n",
       "      <th>ess_tail</th>\n",
       "      <th>r_hat</th>\n",
       "    </tr>\n",
       "  </thead>\n",
       "  <tbody>\n",
       "    <tr>\n",
       "      <th>b_cond[0]</th>\n",
       "      <td>0.285</td>\n",
       "      <td>0.353</td>\n",
       "      <td>-0.396</td>\n",
       "      <td>0.922</td>\n",
       "      <td>0.004</td>\n",
       "      <td>0.003</td>\n",
       "      <td>6753.0</td>\n",
       "      <td>5815.0</td>\n",
       "      <td>1.0</td>\n",
       "    </tr>\n",
       "    <tr>\n",
       "      <th>b_cond[1]</th>\n",
       "      <td>0.256</td>\n",
       "      <td>0.353</td>\n",
       "      <td>-0.417</td>\n",
       "      <td>0.896</td>\n",
       "      <td>0.004</td>\n",
       "      <td>0.003</td>\n",
       "      <td>6772.0</td>\n",
       "      <td>5786.0</td>\n",
       "      <td>1.0</td>\n",
       "    </tr>\n",
       "    <tr>\n",
       "      <th>b_cond[2]</th>\n",
       "      <td>0.347</td>\n",
       "      <td>0.353</td>\n",
       "      <td>-0.353</td>\n",
       "      <td>0.963</td>\n",
       "      <td>0.004</td>\n",
       "      <td>0.003</td>\n",
       "      <td>6778.0</td>\n",
       "      <td>5829.0</td>\n",
       "      <td>1.0</td>\n",
       "    </tr>\n",
       "    <tr>\n",
       "      <th>b_cond[3]</th>\n",
       "      <td>0.263</td>\n",
       "      <td>0.353</td>\n",
       "      <td>-0.418</td>\n",
       "      <td>0.901</td>\n",
       "      <td>0.004</td>\n",
       "      <td>0.003</td>\n",
       "      <td>6776.0</td>\n",
       "      <td>5789.0</td>\n",
       "      <td>1.0</td>\n",
       "    </tr>\n",
       "    <tr>\n",
       "      <th>b_cond[4]</th>\n",
       "      <td>0.271</td>\n",
       "      <td>0.353</td>\n",
       "      <td>-0.392</td>\n",
       "      <td>0.928</td>\n",
       "      <td>0.004</td>\n",
       "      <td>0.003</td>\n",
       "      <td>6761.0</td>\n",
       "      <td>5837.0</td>\n",
       "      <td>1.0</td>\n",
       "    </tr>\n",
       "    <tr>\n",
       "      <th>b_cond[5]</th>\n",
       "      <td>0.320</td>\n",
       "      <td>0.353</td>\n",
       "      <td>-0.368</td>\n",
       "      <td>0.949</td>\n",
       "      <td>0.004</td>\n",
       "      <td>0.003</td>\n",
       "      <td>6766.0</td>\n",
       "      <td>5897.0</td>\n",
       "      <td>1.0</td>\n",
       "    </tr>\n",
       "    <tr>\n",
       "      <th>b_matt[0]</th>\n",
       "      <td>-0.101</td>\n",
       "      <td>0.479</td>\n",
       "      <td>-1.006</td>\n",
       "      <td>0.770</td>\n",
       "      <td>0.007</td>\n",
       "      <td>0.005</td>\n",
       "      <td>4469.0</td>\n",
       "      <td>5522.0</td>\n",
       "      <td>1.0</td>\n",
       "    </tr>\n",
       "    <tr>\n",
       "      <th>b_matt[1]</th>\n",
       "      <td>-0.783</td>\n",
       "      <td>0.559</td>\n",
       "      <td>-1.815</td>\n",
       "      <td>0.284</td>\n",
       "      <td>0.009</td>\n",
       "      <td>0.006</td>\n",
       "      <td>3828.0</td>\n",
       "      <td>5160.0</td>\n",
       "      <td>1.0</td>\n",
       "    </tr>\n",
       "    <tr>\n",
       "      <th>b_matt[2]</th>\n",
       "      <td>1.272</td>\n",
       "      <td>0.651</td>\n",
       "      <td>0.084</td>\n",
       "      <td>2.502</td>\n",
       "      <td>0.010</td>\n",
       "      <td>0.007</td>\n",
       "      <td>4214.0</td>\n",
       "      <td>5137.0</td>\n",
       "      <td>1.0</td>\n",
       "    </tr>\n",
       "    <tr>\n",
       "      <th>b_matt[3]</th>\n",
       "      <td>-0.609</td>\n",
       "      <td>0.526</td>\n",
       "      <td>-1.656</td>\n",
       "      <td>0.340</td>\n",
       "      <td>0.008</td>\n",
       "      <td>0.006</td>\n",
       "      <td>4307.0</td>\n",
       "      <td>4905.0</td>\n",
       "      <td>1.0</td>\n",
       "    </tr>\n",
       "    <tr>\n",
       "      <th>b_matt[4]</th>\n",
       "      <td>-0.415</td>\n",
       "      <td>0.505</td>\n",
       "      <td>-1.387</td>\n",
       "      <td>0.518</td>\n",
       "      <td>0.008</td>\n",
       "      <td>0.005</td>\n",
       "      <td>4483.0</td>\n",
       "      <td>5207.0</td>\n",
       "      <td>1.0</td>\n",
       "    </tr>\n",
       "    <tr>\n",
       "      <th>b_matt[5]</th>\n",
       "      <td>0.681</td>\n",
       "      <td>0.560</td>\n",
       "      <td>-0.356</td>\n",
       "      <td>1.735</td>\n",
       "      <td>0.009</td>\n",
       "      <td>0.006</td>\n",
       "      <td>4228.0</td>\n",
       "      <td>5369.0</td>\n",
       "      <td>1.0</td>\n",
       "    </tr>\n",
       "  </tbody>\n",
       "</table>\n",
       "</div>"
      ],
      "text/plain": [
       "            mean     sd  hdi_3%  hdi_97%  mcse_mean  mcse_sd  ess_bulk  \\\n",
       "b_cond[0]  0.285  0.353  -0.396    0.922      0.004    0.003    6753.0   \n",
       "b_cond[1]  0.256  0.353  -0.417    0.896      0.004    0.003    6772.0   \n",
       "b_cond[2]  0.347  0.353  -0.353    0.963      0.004    0.003    6778.0   \n",
       "b_cond[3]  0.263  0.353  -0.418    0.901      0.004    0.003    6776.0   \n",
       "b_cond[4]  0.271  0.353  -0.392    0.928      0.004    0.003    6761.0   \n",
       "b_cond[5]  0.320  0.353  -0.368    0.949      0.004    0.003    6766.0   \n",
       "b_matt[0] -0.101  0.479  -1.006    0.770      0.007    0.005    4469.0   \n",
       "b_matt[1] -0.783  0.559  -1.815    0.284      0.009    0.006    3828.0   \n",
       "b_matt[2]  1.272  0.651   0.084    2.502      0.010    0.007    4214.0   \n",
       "b_matt[3] -0.609  0.526  -1.656    0.340      0.008    0.006    4307.0   \n",
       "b_matt[4] -0.415  0.505  -1.387    0.518      0.008    0.005    4483.0   \n",
       "b_matt[5]  0.681  0.560  -0.356    1.735      0.009    0.006    4228.0   \n",
       "\n",
       "           ess_tail  r_hat  \n",
       "b_cond[0]    5815.0    1.0  \n",
       "b_cond[1]    5786.0    1.0  \n",
       "b_cond[2]    5829.0    1.0  \n",
       "b_cond[3]    5789.0    1.0  \n",
       "b_cond[4]    5837.0    1.0  \n",
       "b_cond[5]    5897.0    1.0  \n",
       "b_matt[0]    5522.0    1.0  \n",
       "b_matt[1]    5160.0    1.0  \n",
       "b_matt[2]    5137.0    1.0  \n",
       "b_matt[3]    4905.0    1.0  \n",
       "b_matt[4]    5207.0    1.0  \n",
       "b_matt[5]    5369.0    1.0  "
      ]
     },
     "execution_count": 23,
     "metadata": {},
     "output_type": "execute_result"
    }
   ],
   "source": [
    "az.summary(cond_trace, var_names=['b_cond','b_matt'])"
   ]
  },
  {
   "cell_type": "code",
   "execution_count": 24,
   "id": "9fde760b-2e8b-4b16-912a-cea2ea19bf8a",
   "metadata": {},
   "outputs": [],
   "source": [
    "trStacked = cond_trace.posterior.stack(draws=('chain','draw'))\n"
   ]
  },
  {
   "cell_type": "markdown",
   "id": "e5ed4f71-6b79-463b-a1f2-8192f998ffee",
   "metadata": {},
   "source": [
    "#### Remember the order to use for comparison\n",
    "'CSminus1':0, 'CSplus1':1, 'CSplusUS1':2, 'CSplus2':3, 'CSminus2':4, 'CSminusUS2':5"
   ]
  },
  {
   "cell_type": "code",
   "execution_count": 25,
   "id": "9ca1e126-a898-4555-98f7-bd8a2ec38de5",
   "metadata": {},
   "outputs": [
    {
     "data": {
      "text/plain": [
       "(6, 8000)"
      ]
     },
     "execution_count": 25,
     "metadata": {},
     "output_type": "execute_result"
    }
   ],
   "source": [
    "trStacked.b_cond.shape"
   ]
  },
  {
   "cell_type": "code",
   "execution_count": 26,
   "id": "e1468b27-f745-47d8-90af-91f87cfdb03a",
   "metadata": {},
   "outputs": [],
   "source": [
    "csminus1 = trStacked.b_cond[0,:].values\n",
    "csplus1 = trStacked.b_cond[1,:].values\n",
    "csPlusUS1 = trStacked.b_cond[2,:].values\n",
    "csminus2 = trStacked.b_cond[4,:].values\n",
    "csplus2 = trStacked.b_cond[3,:].values\n",
    "csPlusUS2 = trStacked.b_cond[5,:].values\n",
    "csUSboth = np.mean(np.stack([csPlusUS1, csPlusUS2]), axis=0) # averaging across USs\n",
    "csall = np.mean(np.stack([csminus1,csminus2, csplus1, csplus2]), axis=0) # averaging across CSs\n",
    "usVcs = csUSboth - csall"
   ]
  },
  {
   "cell_type": "code",
   "execution_count": 27,
   "id": "04ca3d75-ac3c-4737-b086-f4408aeb0279",
   "metadata": {},
   "outputs": [
    {
     "data": {
      "text/plain": [
       "<AxesSubplot:ylabel='Count'>"
      ]
     },
     "execution_count": 27,
     "metadata": {},
     "output_type": "execute_result"
    },
    {
     "data": {
      "image/png": "[encoded data removed]",
      "text/plain": [
       "<Figure size 432x288 with 1 Axes>"
      ]
     },
     "metadata": {
      "needs_background": "light"
     },
     "output_type": "display_data"
    }
   ],
   "source": [
    "sns.histplot(csminus1, color='red')\n",
    "sns.histplot(csplus1, color='orange')\n",
    "sns.histplot(csPlusUS1, color='green')"
   ]
  },
  {
   "cell_type": "code",
   "execution_count": 29,
   "id": "9cdec793-0544-48b2-95c4-32e2d420a0f5",
   "metadata": {},
   "outputs": [
    {
     "data": {
      "text/plain": [
       "Text(0.5, 1.0, 'CSPlusUS-CS in anterior Hippocampus')"
      ]
     },
     "execution_count": 29,
     "metadata": {},
     "output_type": "execute_result"
    },
    {
     "data": {
      "text/plain": [
       "<Figure size 1296x216 with 0 Axes>"
      ]
     },
     "metadata": {},
     "output_type": "display_data"
    },
    {
     "data": {
      "image/png": "[encoded data removed]",
      "text/plain": [
       "<Figure size 432x288 with 1 Axes>"
      ]
     },
     "metadata": {},
     "output_type": "display_data"
    }
   ],
   "source": [
    "sns.set_style('ticks')\n",
    "fig = plt.figure(figsize=(18,3))\n",
    "az.plot_posterior(usVcs, point_estimate='mean', kind='hist', ref_val=0).set_title(\"CSPlusUS-CS in anterior Hippocampus\")\n"
   ]
  },
  {
   "cell_type": "code",
   "execution_count": 30,
   "id": "6b90413a-d749-496a-981b-769a5cf67bc7",
   "metadata": {},
   "outputs": [
    {
     "data": {
      "text/plain": [
       "8000"
      ]
     },
     "execution_count": 30,
     "metadata": {},
     "output_type": "execute_result"
    }
   ],
   "source": [
    "sum(usVcs > 0)"
   ]
  },
  {
   "cell_type": "code",
   "execution_count": 31,
   "id": "84c45ae8-f29b-43d1-b8ff-2765d89f17c2",
   "metadata": {},
   "outputs": [
    {
     "name": "stderr",
     "output_type": "stream",
     "text": [
      "arviz - WARNING - Shape validation failed: input_shape: (1, 8000), minimum_shape: (chains=2, draws=4)\n"
     ]
    },
    {
     "name": "stdout",
     "output_type": "stream",
     "text": [
      "Standardized coeficient 5.596155157590464\n"
     ]
    },
    {
     "data": {
      "text/html": [
       "<div>\n",
       "<style scoped>\n",
       "    .dataframe tbody tr th:only-of-type {\n",
       "        vertical-align: middle;\n",
       "    }\n",
       "\n",
       "    .dataframe tbody tr th {\n",
       "        vertical-align: top;\n",
       "    }\n",
       "\n",
       "    .dataframe thead th {\n",
       "        text-align: right;\n",
       "    }\n",
       "</style>\n",
       "<table border=\"1\" class=\"dataframe\">\n",
       "  <thead>\n",
       "    <tr style=\"text-align: right;\">\n",
       "      <th></th>\n",
       "      <th>mean</th>\n",
       "      <th>sd</th>\n",
       "      <th>hdi_3%</th>\n",
       "      <th>hdi_97%</th>\n",
       "      <th>mcse_mean</th>\n",
       "      <th>mcse_sd</th>\n",
       "      <th>ess_bulk</th>\n",
       "      <th>ess_tail</th>\n",
       "      <th>r_hat</th>\n",
       "    </tr>\n",
       "  </thead>\n",
       "  <tbody>\n",
       "    <tr>\n",
       "      <th>x</th>\n",
       "      <td>0.064</td>\n",
       "      <td>0.012</td>\n",
       "      <td>0.042</td>\n",
       "      <td>0.086</td>\n",
       "      <td>0.0</td>\n",
       "      <td>0.0</td>\n",
       "      <td>5828.0</td>\n",
       "      <td>5031.0</td>\n",
       "      <td>NaN</td>\n",
       "    </tr>\n",
       "  </tbody>\n",
       "</table>\n",
       "</div>"
      ],
      "text/plain": [
       "    mean     sd  hdi_3%  hdi_97%  mcse_mean  mcse_sd  ess_bulk  ess_tail  \\\n",
       "x  0.064  0.012   0.042    0.086        0.0      0.0    5828.0    5031.0   \n",
       "\n",
       "   r_hat  \n",
       "x    NaN  "
      ]
     },
     "execution_count": 31,
     "metadata": {},
     "output_type": "execute_result"
    }
   ],
   "source": [
    "print(f'Standardized coeficient {np.mean(usVcs) / np.std(usVcs)}')\n",
    "az.summary(usVcs)"
   ]
  },
  {
   "cell_type": "code",
   "execution_count": 32,
   "id": "3cfcb005-15e9-43d6-987f-585baea5cf2b",
   "metadata": {},
   "outputs": [
    {
     "data": {
      "text/plain": [
       "<seaborn.axisgrid.FacetGrid at 0x2b25f43f6e50>"
      ]
     },
     "execution_count": 32,
     "metadata": {},
     "output_type": "execute_result"
    },
    {
     "data": {
      "image/png": "[encoded data removed]",
      "text/plain": [
       "<Figure size 360x360 with 1 Axes>"
      ]
     },
     "metadata": {},
     "output_type": "display_data"
    }
   ],
   "source": [
    "sns.set(font_scale = 1.15)\n",
    "sns.set_style(\"white\")\n",
    "g = sns.catplot(y='amg_hipp',x='condition', data=df, kind='bar', ci=95)\n",
    "g.set_xlabels(\"\")\n",
    "g.set_xticklabels(\n",
    "    labels=[\"CS+US1\", \"CS-1\", \"CS+1\", \"CS+US2\", \"CSminus2\", \"CSplus2\"], rotation=30)\n",
    "\n",
    "#g.set_ylabels(\"Amygdala Hippocampus Coupling\")\n",
    "#g.savefig('coupling_different_Conditions.png', dpi=300, bbox_inches='tight')"
   ]
  },
  {
   "cell_type": "markdown",
   "id": "e763de1b-9de4-44c2-96ab-4d7f56f82f3c",
   "metadata": {},
   "source": [
    "# Use MLE\n"
   ]
  },
  {
   "cell_type": "code",
   "execution_count": 12,
   "id": "5c7ce237-3d77-4372-8624-74e1fd3f08c0",
   "metadata": {},
   "outputs": [],
   "source": [
    "dfML = pd.read_csv('MLE/pe_ML.csv')"
   ]
  },
  {
   "cell_type": "code",
   "execution_count": 35,
   "id": "babef815-4726-4a43-bf67-03f701b361a5",
   "metadata": {},
   "outputs": [],
   "source": [
    "#dfML = pd.merge(df, dfML, left_on='sub', right_on='sub')\n",
    "df['peML'] = dfML['peML']"
   ]
  },
  {
   "cell_type": "code",
   "execution_count": 36,
   "id": "0a335d1e-dae6-415d-9391-a4d26f396f7b",
   "metadata": {},
   "outputs": [
    {
     "data": {
      "text/html": [
       "<div>\n",
       "<style scoped>\n",
       "    .dataframe tbody tr th:only-of-type {\n",
       "        vertical-align: middle;\n",
       "    }\n",
       "\n",
       "    .dataframe tbody tr th {\n",
       "        vertical-align: top;\n",
       "    }\n",
       "\n",
       "    .dataframe thead th {\n",
       "        text-align: right;\n",
       "    }\n",
       "</style>\n",
       "<table border=\"1\" class=\"dataframe\">\n",
       "  <thead>\n",
       "    <tr style=\"text-align: right;\">\n",
       "      <th></th>\n",
       "      <th>sub</th>\n",
       "      <th>Condition</th>\n",
       "      <th>Event.Nr</th>\n",
       "      <th>CDA.AmpSum</th>\n",
       "      <th>expected_value</th>\n",
       "      <th>pe</th>\n",
       "      <th>scr</th>\n",
       "      <th>amg_hipp</th>\n",
       "      <th>amg_vmpfc</th>\n",
       "      <th>amg_SM</th>\n",
       "      <th>amgM</th>\n",
       "      <th>trial</th>\n",
       "      <th>condition</th>\n",
       "      <th>amg</th>\n",
       "      <th>cond</th>\n",
       "      <th>peML</th>\n",
       "    </tr>\n",
       "  </thead>\n",
       "  <tbody>\n",
       "    <tr>\n",
       "      <th>0</th>\n",
       "      <td>sub-189</td>\n",
       "      <td>CSplusUS1</td>\n",
       "      <td>1</td>\n",
       "      <td>0.2852</td>\n",
       "      <td>0.801175</td>\n",
       "      <td>0.500000</td>\n",
       "      <td>0.2852</td>\n",
       "      <td>0.922353</td>\n",
       "      <td>0.880922</td>\n",
       "      <td>0.250503</td>\n",
       "      <td>0.561003</td>\n",
       "      <td>1</td>\n",
       "      <td>CSplusUS1</td>\n",
       "      <td>0.561003</td>\n",
       "      <td>2</td>\n",
       "      <td>0.500000</td>\n",
       "    </tr>\n",
       "    <tr>\n",
       "      <th>1</th>\n",
       "      <td>sub-189</td>\n",
       "      <td>CSminus1</td>\n",
       "      <td>2</td>\n",
       "      <td>0.1033</td>\n",
       "      <td>0.796939</td>\n",
       "      <td>-0.500000</td>\n",
       "      <td>0.1033</td>\n",
       "      <td>0.131659</td>\n",
       "      <td>0.645556</td>\n",
       "      <td>0.532036</td>\n",
       "      <td>-0.021780</td>\n",
       "      <td>2</td>\n",
       "      <td>CSminus1</td>\n",
       "      <td>-0.021780</td>\n",
       "      <td>0</td>\n",
       "      <td>-0.500000</td>\n",
       "    </tr>\n",
       "    <tr>\n",
       "      <th>2</th>\n",
       "      <td>sub-189</td>\n",
       "      <td>CSplus1</td>\n",
       "      <td>3</td>\n",
       "      <td>0.0783</td>\n",
       "      <td>0.799047</td>\n",
       "      <td>-0.501304</td>\n",
       "      <td>0.0783</td>\n",
       "      <td>0.538454</td>\n",
       "      <td>0.690040</td>\n",
       "      <td>0.090131</td>\n",
       "      <td>-0.055494</td>\n",
       "      <td>3</td>\n",
       "      <td>CSplus1</td>\n",
       "      <td>-0.055494</td>\n",
       "      <td>1</td>\n",
       "      <td>-0.475830</td>\n",
       "    </tr>\n",
       "    <tr>\n",
       "      <th>3</th>\n",
       "      <td>sub-189</td>\n",
       "      <td>CSplusUS1</td>\n",
       "      <td>4</td>\n",
       "      <td>0.1772</td>\n",
       "      <td>0.801165</td>\n",
       "      <td>0.500006</td>\n",
       "      <td>0.1772</td>\n",
       "      <td>0.751307</td>\n",
       "      <td>0.846971</td>\n",
       "      <td>0.836519</td>\n",
       "      <td>-0.190930</td>\n",
       "      <td>4</td>\n",
       "      <td>CSplusUS1</td>\n",
       "      <td>-0.190930</td>\n",
       "      <td>2</td>\n",
       "      <td>0.501168</td>\n",
       "    </tr>\n",
       "    <tr>\n",
       "      <th>4</th>\n",
       "      <td>sub-189</td>\n",
       "      <td>CSminus1</td>\n",
       "      <td>5</td>\n",
       "      <td>0.0000</td>\n",
       "      <td>0.794832</td>\n",
       "      <td>-0.498696</td>\n",
       "      <td>0.0000</td>\n",
       "      <td>0.824036</td>\n",
       "      <td>0.681568</td>\n",
       "      <td>0.566459</td>\n",
       "      <td>0.028911</td>\n",
       "      <td>5</td>\n",
       "      <td>CSminus1</td>\n",
       "      <td>0.028911</td>\n",
       "      <td>0</td>\n",
       "      <td>-0.524170</td>\n",
       "    </tr>\n",
       "    <tr>\n",
       "      <th>...</th>\n",
       "      <td>...</td>\n",
       "      <td>...</td>\n",
       "      <td>...</td>\n",
       "      <td>...</td>\n",
       "      <td>...</td>\n",
       "      <td>...</td>\n",
       "      <td>...</td>\n",
       "      <td>...</td>\n",
       "      <td>...</td>\n",
       "      <td>...</td>\n",
       "      <td>...</td>\n",
       "      <td>...</td>\n",
       "      <td>...</td>\n",
       "      <td>...</td>\n",
       "      <td>...</td>\n",
       "      <td>...</td>\n",
       "    </tr>\n",
       "    <tr>\n",
       "      <th>4480</th>\n",
       "      <td>sub-152</td>\n",
       "      <td>CSplus2</td>\n",
       "      <td>65</td>\n",
       "      <td>0.0000</td>\n",
       "      <td>0.012591</td>\n",
       "      <td>-0.041406</td>\n",
       "      <td>0.0000</td>\n",
       "      <td>0.668299</td>\n",
       "      <td>0.648652</td>\n",
       "      <td>0.288710</td>\n",
       "      <td>0.262373</td>\n",
       "      <td>65</td>\n",
       "      <td>CSplus2</td>\n",
       "      <td>0.262373</td>\n",
       "      <td>3</td>\n",
       "      <td>-0.000360</td>\n",
       "    </tr>\n",
       "    <tr>\n",
       "      <th>4481</th>\n",
       "      <td>sub-152</td>\n",
       "      <td>CSminus2</td>\n",
       "      <td>66</td>\n",
       "      <td>0.0000</td>\n",
       "      <td>0.149719</td>\n",
       "      <td>-0.372661</td>\n",
       "      <td>0.0000</td>\n",
       "      <td>0.419242</td>\n",
       "      <td>0.506714</td>\n",
       "      <td>-0.213779</td>\n",
       "      <td>0.055292</td>\n",
       "      <td>66</td>\n",
       "      <td>CSminus2</td>\n",
       "      <td>0.055292</td>\n",
       "      <td>4</td>\n",
       "      <td>-0.423359</td>\n",
       "    </tr>\n",
       "    <tr>\n",
       "      <th>4482</th>\n",
       "      <td>sub-152</td>\n",
       "      <td>CSminus2</td>\n",
       "      <td>67</td>\n",
       "      <td>0.0000</td>\n",
       "      <td>0.113651</td>\n",
       "      <td>-0.284416</td>\n",
       "      <td>0.0000</td>\n",
       "      <td>0.678883</td>\n",
       "      <td>0.308139</td>\n",
       "      <td>-0.271481</td>\n",
       "      <td>0.146620</td>\n",
       "      <td>67</td>\n",
       "      <td>CSminus2</td>\n",
       "      <td>0.146620</td>\n",
       "      <td>4</td>\n",
       "      <td>-0.279172</td>\n",
       "    </tr>\n",
       "    <tr>\n",
       "      <th>4483</th>\n",
       "      <td>sub-152</td>\n",
       "      <td>CSplus2</td>\n",
       "      <td>68</td>\n",
       "      <td>0.0000</td>\n",
       "      <td>0.011487</td>\n",
       "      <td>-0.038340</td>\n",
       "      <td>0.0000</td>\n",
       "      <td>0.805161</td>\n",
       "      <td>0.258436</td>\n",
       "      <td>0.012690</td>\n",
       "      <td>-0.179821</td>\n",
       "      <td>68</td>\n",
       "      <td>CSplus2</td>\n",
       "      <td>-0.179821</td>\n",
       "      <td>3</td>\n",
       "      <td>-0.000237</td>\n",
       "    </tr>\n",
       "    <tr>\n",
       "      <th>4484</th>\n",
       "      <td>sub-152</td>\n",
       "      <td>CSminus2</td>\n",
       "      <td>69</td>\n",
       "      <td>0.0000</td>\n",
       "      <td>0.089113</td>\n",
       "      <td>-0.225738</td>\n",
       "      <td>0.0000</td>\n",
       "      <td>0.480243</td>\n",
       "      <td>0.267232</td>\n",
       "      <td>0.252119</td>\n",
       "      <td>-0.015971</td>\n",
       "      <td>69</td>\n",
       "      <td>CSminus2</td>\n",
       "      <td>-0.015971</td>\n",
       "      <td>4</td>\n",
       "      <td>-0.184092</td>\n",
       "    </tr>\n",
       "  </tbody>\n",
       "</table>\n",
       "<p>4485 rows × 16 columns</p>\n",
       "</div>"
      ],
      "text/plain": [
       "          sub  Condition  Event.Nr  CDA.AmpSum  expected_value        pe  \\\n",
       "0     sub-189  CSplusUS1         1      0.2852        0.801175  0.500000   \n",
       "1     sub-189   CSminus1         2      0.1033        0.796939 -0.500000   \n",
       "2     sub-189    CSplus1         3      0.0783        0.799047 -0.501304   \n",
       "3     sub-189  CSplusUS1         4      0.1772        0.801165  0.500006   \n",
       "4     sub-189   CSminus1         5      0.0000        0.794832 -0.498696   \n",
       "...       ...        ...       ...         ...             ...       ...   \n",
       "4480  sub-152    CSplus2        65      0.0000        0.012591 -0.041406   \n",
       "4481  sub-152   CSminus2        66      0.0000        0.149719 -0.372661   \n",
       "4482  sub-152   CSminus2        67      0.0000        0.113651 -0.284416   \n",
       "4483  sub-152    CSplus2        68      0.0000        0.011487 -0.038340   \n",
       "4484  sub-152   CSminus2        69      0.0000        0.089113 -0.225738   \n",
       "\n",
       "         scr  amg_hipp  amg_vmpfc    amg_SM      amgM  trial  condition  \\\n",
       "0     0.2852  0.922353   0.880922  0.250503  0.561003      1  CSplusUS1   \n",
       "1     0.1033  0.131659   0.645556  0.532036 -0.021780      2   CSminus1   \n",
       "2     0.0783  0.538454   0.690040  0.090131 -0.055494      3    CSplus1   \n",
       "3     0.1772  0.751307   0.846971  0.836519 -0.190930      4  CSplusUS1   \n",
       "4     0.0000  0.824036   0.681568  0.566459  0.028911      5   CSminus1   \n",
       "...      ...       ...        ...       ...       ...    ...        ...   \n",
       "4480  0.0000  0.668299   0.648652  0.288710  0.262373     65    CSplus2   \n",
       "4481  0.0000  0.419242   0.506714 -0.213779  0.055292     66   CSminus2   \n",
       "4482  0.0000  0.678883   0.308139 -0.271481  0.146620     67   CSminus2   \n",
       "4483  0.0000  0.805161   0.258436  0.012690 -0.179821     68    CSplus2   \n",
       "4484  0.0000  0.480243   0.267232  0.252119 -0.015971     69   CSminus2   \n",
       "\n",
       "           amg  cond      peML  \n",
       "0     0.561003     2  0.500000  \n",
       "1    -0.021780     0 -0.500000  \n",
       "2    -0.055494     1 -0.475830  \n",
       "3    -0.190930     2  0.501168  \n",
       "4     0.028911     0 -0.524170  \n",
       "...        ...   ...       ...  \n",
       "4480  0.262373     3 -0.000360  \n",
       "4481  0.055292     4 -0.423359  \n",
       "4482  0.146620     4 -0.279172  \n",
       "4483 -0.179821     3 -0.000237  \n",
       "4484 -0.015971     4 -0.184092  \n",
       "\n",
       "[4485 rows x 16 columns]"
      ]
     },
     "execution_count": 36,
     "metadata": {},
     "output_type": "execute_result"
    }
   ],
   "source": [
    "df"
   ]
  },
  {
   "cell_type": "code",
   "execution_count": 37,
   "id": "e59015bb-60ff-412f-bfd9-58c19e9e7983",
   "metadata": {},
   "outputs": [],
   "source": [
    "import pingouin as pg"
   ]
  },
  {
   "cell_type": "code",
   "execution_count": 38,
   "id": "d8894139-1c02-42ec-a9da-f96fed7e3648",
   "metadata": {},
   "outputs": [
    {
     "data": {
      "text/html": [
       "<div>\n",
       "<style scoped>\n",
       "    .dataframe tbody tr th:only-of-type {\n",
       "        vertical-align: middle;\n",
       "    }\n",
       "\n",
       "    .dataframe tbody tr th {\n",
       "        vertical-align: top;\n",
       "    }\n",
       "\n",
       "    .dataframe thead th {\n",
       "        text-align: right;\n",
       "    }\n",
       "</style>\n",
       "<table border=\"1\" class=\"dataframe\">\n",
       "  <thead>\n",
       "    <tr style=\"text-align: right;\">\n",
       "      <th></th>\n",
       "      <th>n</th>\n",
       "      <th>r</th>\n",
       "      <th>CI95%</th>\n",
       "      <th>p-val</th>\n",
       "      <th>BF10</th>\n",
       "      <th>power</th>\n",
       "    </tr>\n",
       "  </thead>\n",
       "  <tbody>\n",
       "    <tr>\n",
       "      <th>pearson</th>\n",
       "      <td>4485</td>\n",
       "      <td>0.886144</td>\n",
       "      <td>[0.88, 0.89]</td>\n",
       "      <td>0.0</td>\n",
       "      <td>inf</td>\n",
       "      <td>1.0</td>\n",
       "    </tr>\n",
       "  </tbody>\n",
       "</table>\n",
       "</div>"
      ],
      "text/plain": [
       "            n         r         CI95%  p-val BF10  power\n",
       "pearson  4485  0.886144  [0.88, 0.89]    0.0  inf    1.0"
      ]
     },
     "execution_count": 38,
     "metadata": {},
     "output_type": "execute_result"
    },
    {
     "name": "stderr",
     "output_type": "stream",
     "text": [
      "/gpfs/ysm/project/joormann/oad4/conda_envs/neuroAnalysis/lib/python3.9/site-packages/outdated/utils.py:14: OutdatedPackageWarning: The package pingouin is out of date. Your version is 0.5.1, the latest is 0.5.2.\n",
      "Set the environment variable OUTDATED_IGNORE=1 to disable these warnings.\n",
      "  return warn(\n"
     ]
    }
   ],
   "source": [
    "# testing correlation between Bayes PE and MLE PE\n",
    "pg.corr(df['pe'], df['peML'])"
   ]
  },
  {
   "cell_type": "code",
   "execution_count": 39,
   "id": "683e107e-ec27-4dbf-9aa9-288116243746",
   "metadata": {},
   "outputs": [
    {
     "name": "stderr",
     "output_type": "stream",
     "text": [
      "Auto-assigning NUTS sampler...\n",
      "Initializing NUTS using jitter+adapt_diag...\n",
      "Multiprocess sampling (4 chains in 10 jobs)\n",
      "NUTS: [eps, coup_matt, sigma_coup, mu_coup, b_amg, b_trials, a_matt, sigma_a, mu_a, intercept]\n"
     ]
    },
    {
     "data": {
      "text/html": [
       "\n",
       "<style>\n",
       "    /* Turns off some styling */\n",
       "    progress {\n",
       "        /* gets rid of default border in Firefox and Opera. */\n",
       "        border: none;\n",
       "        /* Needs to be in here for Safari polyfill so background images work as expected. */\n",
       "        background-size: auto;\n",
       "    }\n",
       "    .progress-bar-interrupted, .progress-bar-interrupted::-webkit-progress-bar {\n",
       "        background: #F44336;\n",
       "    }\n",
       "</style>\n"
      ],
      "text/plain": [
       "<IPython.core.display.HTML object>"
      ]
     },
     "metadata": {},
     "output_type": "display_data"
    },
    {
     "data": {
      "text/html": [
       "\n",
       "    <div>\n",
       "      <progress value='16000' class='' max='16000' style='width:300px; height:20px; vertical-align: middle;'></progress>\n",
       "      100.00% [16000/16000 13:05<00:00 Sampling 4 chains, 0 divergences]\n",
       "    </div>\n",
       "    "
      ],
      "text/plain": [
       "<IPython.core.display.HTML object>"
      ]
     },
     "metadata": {},
     "output_type": "display_data"
    },
    {
     "name": "stderr",
     "output_type": "stream",
     "text": [
      "Sampling 4 chains for 2_000 tune and 2_000 draw iterations (8_000 + 8_000 draws total) took 786 seconds.\n",
      "The number of effective samples is smaller than 25% for some parameters.\n"
     ]
    }
   ],
   "source": [
    "with pm.Model() as model_peML:\n",
    "        # adding intercept\n",
    "        intercept = pm.Normal('intercept', mu=0, sigma=1)\n",
    "\n",
    "        mu_a = pm.Normal('mu_a', mu=0, sigma=.5)\n",
    "        sigma_a = pm.HalfCauchy('sigma_a', .5)\n",
    "        a_matt = pm.Normal('a_matt', mu=0, sd=1, shape=n_sub)\n",
    "        a = pm.Deterministic('a', mu_a + sigma_a*a_matt)\n",
    "\n",
    "\n",
    "        # add trials and amygdala activation\n",
    "        b_trials = pm.Normal('b_trials', mu=0, sigma=.5)\n",
    "        b_amg = pm.Normal('b_amg', mu=0, sigma=.5)\n",
    "\n",
    "        # add coupling\n",
    "        #b_coup = pm.Normal('b_coup', mu=0, sigma=.5)\n",
    "        mu_coup = pm.Normal('mu_coup', mu=0, sigma=.5)\n",
    "        sigma_coup = pm.HalfCauchy('sigma_coup', .5)\n",
    "        coup_matt = pm.Normal('coup_matt', mu=0, sd=1, shape=n_sub)\n",
    "        b_coup = pm.Deterministic('b_coup', mu_coup + sigma_coup*coup_matt)\n",
    "\n",
    "\n",
    "        eps = pm.HalfCauchy('eps', .5)\n",
    "\n",
    "        # make mu a determenistic distribution so we can test later vs. actual data\n",
    "\n",
    "        mu = pm.Deterministic('mu',intercept + a[subIDX] + b_trials*trials + b_amg*df.amg + b_coup[subIDX]*df['amg_hipp'])\n",
    "\n",
    "        y_hat = pm.Normal('y_hat', mu=mu, sigma=eps, observed=df['peML'])\n",
    "\n",
    "\n",
    "        trace_peML = pm.sample(target_accept=.95, chains=4, cores=10, return_inferencedata=True, draws=2000, tune=2000)"
   ]
  },
  {
   "cell_type": "code",
   "execution_count": null,
   "id": "af19ff91-2c76-4e87-9c5f-f728e35271db",
   "metadata": {},
   "outputs": [],
   "source": [
    "az.summary(trace_peML, var_names=['b_amg','b_coup','mu_coup'], hdi_prob=.95)"
   ]
  },
  {
   "cell_type": "code",
   "execution_count": null,
   "id": "d625125d-4e48-475b-989b-e7757880b317",
   "metadata": {},
   "outputs": [],
   "source": [
    "a = az.plot_posterior(trace_peML, var_names=['b_amg'], kind='hist', ref_val=0, hdi_prob=.95)\n",
    "a.figure.savefig('amygdala_posteriorML.png')\n",
    "\n",
    "b = az.plot_posterior(trace_peML, var_names=['mu_coup'], kind='hist', ref_val=0, hdi_prob=.95)\n",
    "b.figure.savefig('amg_hippFC_posteriorML.png')"
   ]
  }
 ],
 "metadata": {
  "kernelspec": {
   "display_name": "Python 3 (ipykernel)",
   "language": "python",
   "name": "python3"
  },
  "language_info": {
   "codemirror_mode": {
    "name": "ipython",
    "version": 3
   },
   "file_extension": ".py",
   "mimetype": "text/x-python",
   "name": "python",
   "nbconvert_exporter": "python",
   "pygments_lexer": "ipython3",
   "version": "3.9.9"
  }
 },
 "nbformat": 4,
 "nbformat_minor": 5
}
